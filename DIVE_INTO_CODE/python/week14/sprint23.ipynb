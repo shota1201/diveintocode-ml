{
 "cells": [
  {
   "cell_type": "markdown",
   "metadata": {},
   "source": [
    "# ゲート付きリカレントニューラルネットワーク"
   ]
  },
  {
   "cell_type": "markdown",
   "metadata": {},
   "source": [
    "【問題1】各種手法の実行"
   ]
  },
  {
   "cell_type": "markdown",
   "metadata": {},
   "source": [
    "参考github:<br>\n",
    "https://github.com/awslabs/keras-apache-mxnet/blob/master/examples/imdb_lstm.py<br>"
   ]
  },
  {
   "cell_type": "code",
   "execution_count": 1,
   "metadata": {},
   "outputs": [
    {
     "name": "stdout",
     "output_type": "stream",
     "text": [
      "Cloning into 'keras-apache-mxnet'...\n",
      "remote: Enumerating objects: 32701, done.\u001b[K\n",
      "remote: Total 32701 (delta 0), reused 0 (delta 0), pack-reused 32701\u001b[K\n",
      "Receiving objects: 100% (32701/32701), 12.83 MiB | 4.88 MiB/s, done.\n",
      "Resolving deltas: 100% (23815/23815), done.\n"
     ]
    }
   ],
   "source": [
    "!git clone https://github.com/awslabs/keras-apache-mxnet.git"
   ]
  },
  {
   "cell_type": "code",
   "execution_count": 4,
   "metadata": {},
   "outputs": [
    {
     "name": "stdout",
     "output_type": "stream",
     "text": [
      "/Users/sasanoshouta/Desktop/DIVE_INTO_CODE/python/week14/keras-apache-mxnet/examples\n"
     ]
    }
   ],
   "source": [
    "%cd keras-apache-mxnet/examples/"
   ]
  },
  {
   "cell_type": "code",
   "execution_count": 5,
   "metadata": {},
   "outputs": [
    {
     "name": "stdout",
     "output_type": "stream",
     "text": [
      "README.md\r\n",
      "addition_rnn.py\r\n",
      "antirectifier.py\r\n",
      "babi_memnn.py\r\n",
      "babi_rnn.py\r\n",
      "cifar10_cnn.py\r\n",
      "cifar10_cnn_capsule.py\r\n",
      "cifar10_cnn_tfaugment2d.py\r\n",
      "cifar10_mobilenet.py\r\n",
      "cifar10_resnet.py\r\n",
      "cifar10_resnet_multi_gpu.py\r\n",
      "conv_filter_visualization.py\r\n",
      "conv_lstm.py\r\n",
      "deep_dream.py\r\n",
      "image_ocr.py\r\n",
      "imdb_bidirectional_lstm.py\r\n",
      "imdb_cnn.py\r\n",
      "imdb_cnn_lstm.py\r\n",
      "imdb_fasttext.py\r\n",
      "imdb_lstm.py\r\n",
      "lstm_seq2seq.py\r\n",
      "lstm_seq2seq_restore.py\r\n",
      "lstm_stateful.py\r\n",
      "lstm_text_generation.py\r\n",
      "mnist_acgan.py\r\n",
      "mnist_cnn.py\r\n",
      "mnist_dataset_api.py\r\n",
      "mnist_denoising_autoencoder.py\r\n",
      "mnist_hierarchical_rnn.py\r\n",
      "mnist_irnn.py\r\n",
      "mnist_mlp.py\r\n",
      "mnist_net2net.py\r\n",
      "mnist_siamese.py\r\n",
      "mnist_sklearn_wrapper.py\r\n",
      "mnist_swwae.py\r\n",
      "mnist_tfrecord.py\r\n",
      "mnist_transfer_cnn.py\r\n",
      "multi_hot_sparse_categorical_crossentropy.py\r\n",
      "neural_doodle.py\r\n",
      "neural_style_transfer.py\r\n",
      "pretrained_word_embeddings.py\r\n",
      "reuters_mlp.py\r\n",
      "reuters_mlp_relu_vs_selu.py\r\n",
      "tensorboard_embeddings_mnist.py\r\n",
      "variational_autoencoder.py\r\n",
      "variational_autoencoder_deconv.py\r\n"
     ]
    }
   ],
   "source": [
    "!ls"
   ]
  },
  {
   "cell_type": "code",
   "execution_count": 6,
   "metadata": {},
   "outputs": [
    {
     "name": "stdout",
     "output_type": "stream",
     "text": [
      "Loading data...\n",
      "/Users/sasanoshouta/.pyenv/versions/3.8.0/lib/python3.8/site-packages/tensorflow/python/keras/datasets/imdb.py:155: VisibleDeprecationWarning: Creating an ndarray from ragged nested sequences (which is a list-or-tuple of lists-or-tuples-or ndarrays with different lengths or shapes) is deprecated. If you meant to do this, you must specify 'dtype=object' when creating the ndarray\n",
      "  x_train, y_train = np.array(xs[:idx]), np.array(labels[:idx])\n",
      "/Users/sasanoshouta/.pyenv/versions/3.8.0/lib/python3.8/site-packages/tensorflow/python/keras/datasets/imdb.py:156: VisibleDeprecationWarning: Creating an ndarray from ragged nested sequences (which is a list-or-tuple of lists-or-tuples-or ndarrays with different lengths or shapes) is deprecated. If you meant to do this, you must specify 'dtype=object' when creating the ndarray\n",
      "  x_test, y_test = np.array(xs[idx:]), np.array(labels[idx:])\n",
      "25000 train sequences\n",
      "25000 test sequences\n",
      "Pad sequences (samples x time)\n",
      "x_train shape: (25000, 80)\n",
      "x_test shape: (25000, 80)\n",
      "Build model...\n",
      "2021-04-12 11:44:15.923154: I tensorflow/core/platform/cpu_feature_guard.cc:143] Your CPU supports instructions that this TensorFlow binary was not compiled to use: AVX2 FMA\n",
      "2021-04-12 11:44:15.998127: I tensorflow/compiler/xla/service/service.cc:168] XLA service 0x7ff62df71470 initialized for platform Host (this does not guarantee that XLA will be used). Devices:\n",
      "2021-04-12 11:44:15.998152: I tensorflow/compiler/xla/service/service.cc:176]   StreamExecutor device (0): Host, Default Version\n",
      "Train...\n",
      "Epoch 1/15\n",
      "782/782 [==============================] - 275s 352ms/step - loss: 0.4278 - accuracy: 0.7994 - val_loss: 0.4112 - val_accuracy: 0.8272\n",
      "Epoch 2/15\n",
      "782/782 [==============================] - 312s 400ms/step - loss: 0.2556 - accuracy: 0.8976 - val_loss: 0.3709 - val_accuracy: 0.8382\n",
      "Epoch 3/15\n",
      "782/782 [==============================] - 225s 287ms/step - loss: 0.1657 - accuracy: 0.9367 - val_loss: 0.4982 - val_accuracy: 0.8271\n",
      "Epoch 4/15\n",
      "782/782 [==============================] - 251s 321ms/step - loss: 0.1160 - accuracy: 0.9565 - val_loss: 0.5306 - val_accuracy: 0.8241\n",
      "Epoch 5/15\n",
      "782/782 [==============================] - 218s 279ms/step - loss: 0.0869 - accuracy: 0.9687 - val_loss: 0.6375 - val_accuracy: 0.8237\n",
      "Epoch 6/15\n",
      "782/782 [==============================] - 205s 262ms/step - loss: 0.0530 - accuracy: 0.9823 - val_loss: 0.6777 - val_accuracy: 0.8141\n",
      "Epoch 7/15\n",
      "782/782 [==============================] - 206s 264ms/step - loss: 0.0405 - accuracy: 0.9864 - val_loss: 0.7595 - val_accuracy: 0.8152\n",
      "Epoch 8/15\n",
      "782/782 [==============================] - 205s 263ms/step - loss: 0.0286 - accuracy: 0.9913 - val_loss: 0.8030 - val_accuracy: 0.8155\n",
      "Epoch 9/15\n",
      "782/782 [==============================] - 205s 262ms/step - loss: 0.0272 - accuracy: 0.9914 - val_loss: 0.8828 - val_accuracy: 0.8146\n",
      "Epoch 10/15\n",
      "782/782 [==============================] - 205s 262ms/step - loss: 0.0180 - accuracy: 0.9944 - val_loss: 1.0518 - val_accuracy: 0.8139\n",
      "Epoch 11/15\n",
      "782/782 [==============================] - 206s 263ms/step - loss: 0.0155 - accuracy: 0.9948 - val_loss: 1.0747 - val_accuracy: 0.8103\n",
      "Epoch 12/15\n",
      "782/782 [==============================] - 210s 269ms/step - loss: 0.0167 - accuracy: 0.9947 - val_loss: 0.9899 - val_accuracy: 0.8153\n",
      "Epoch 13/15\n",
      "782/782 [==============================] - 219s 280ms/step - loss: 0.0118 - accuracy: 0.9964 - val_loss: 1.0261 - val_accuracy: 0.8142\n",
      "Epoch 14/15\n",
      "782/782 [==============================] - 215s 275ms/step - loss: 0.0104 - accuracy: 0.9968 - val_loss: 0.9880 - val_accuracy: 0.8103\n",
      "Epoch 15/15\n",
      "782/782 [==============================] - 230s 294ms/step - loss: 0.0097 - accuracy: 0.9972 - val_loss: 1.1220 - val_accuracy: 0.8105\n",
      "782/782 [==============================] - 24s 31ms/step - loss: 1.1220 - accuracy: 0.8105\n",
      "Test score: 1.1219865083694458\n",
      "Test accuracy: 0.810479998588562\n"
     ]
    }
   ],
   "source": [
    "# LSTM\n",
    "!python imdb_lstm.py"
   ]
  },
  {
   "cell_type": "code",
   "execution_count": 11,
   "metadata": {},
   "outputs": [
    {
     "name": "stdout",
     "output_type": "stream",
     "text": [
      "2021-04-12 13:51:17.062211: I tensorflow/core/platform/cpu_feature_guard.cc:143] Your CPU supports instructions that this TensorFlow binary was not compiled to use: AVX2 FMA\n",
      "2021-04-12 13:51:17.089291: I tensorflow/compiler/xla/service/service.cc:168] XLA service 0x7fda43e6b950 initialized for platform Host (this does not guarantee that XLA will be used). Devices:\n",
      "2021-04-12 13:51:17.089329: I tensorflow/compiler/xla/service/service.cc:176]   StreamExecutor device (0): Host, Default Version\n",
      "Epoch 1/5\n",
      "95/95 [==============================] - 2089s 22s/step - loss: 0.8276 - val_loss: 0.6715\n",
      "Epoch 2/5\n",
      "95/95 [==============================] - 2243s 24s/step - loss: 0.7472 - val_loss: 0.6511\n",
      "Epoch 3/5\n",
      "95/95 [==============================] - 2038s 21s/step - loss: 0.7065 - val_loss: 0.6305\n",
      "Epoch 4/5\n",
      "95/95 [==============================] - 1853s 20s/step - loss: 0.6773 - val_loss: 0.6113\n",
      "Epoch 5/5\n",
      "95/95 [==============================] - 1685s 18s/step - loss: 0.6533 - val_loss: 0.5900\n",
      "WARNING:tensorflow:5 out of the last 5 calls to <function Model.make_predict_function.<locals>.predict_function at 0x1a6dece50> triggered tf.function retracing. Tracing is expensive and the excessive number of tracings is likely due to passing python objects instead of tensors. Also, tf.function has experimental_relax_shapes=True option that relaxes argument shapes that can avoid unnecessary retracing. Please refer to https://www.tensorflow.org/tutorials/customization/performance#python_or_tensor_args and https://www.tensorflow.org/api_docs/python/tf/function for more details.\n",
      "WARNING:tensorflow:6 out of the last 6 calls to <function Model.make_predict_function.<locals>.predict_function at 0x1a6dece50> triggered tf.function retracing. Tracing is expensive and the excessive number of tracings is likely due to passing python objects instead of tensors. Also, tf.function has experimental_relax_shapes=True option that relaxes argument shapes that can avoid unnecessary retracing. Please refer to https://www.tensorflow.org/tutorials/customization/performance#python_or_tensor_args and https://www.tensorflow.org/api_docs/python/tf/function for more details.\n",
      "WARNING:tensorflow:7 out of the last 7 calls to <function Model.make_predict_function.<locals>.predict_function at 0x1a6dece50> triggered tf.function retracing. Tracing is expensive and the excessive number of tracings is likely due to passing python objects instead of tensors. Also, tf.function has experimental_relax_shapes=True option that relaxes argument shapes that can avoid unnecessary retracing. Please refer to https://www.tensorflow.org/tutorials/customization/performance#python_or_tensor_args and https://www.tensorflow.org/api_docs/python/tf/function for more details.\n",
      "WARNING:tensorflow:8 out of the last 8 calls to <function Model.make_predict_function.<locals>.predict_function at 0x1a6dece50> triggered tf.function retracing. Tracing is expensive and the excessive number of tracings is likely due to passing python objects instead of tensors. Also, tf.function has experimental_relax_shapes=True option that relaxes argument shapes that can avoid unnecessary retracing. Please refer to https://www.tensorflow.org/tutorials/customization/performance#python_or_tensor_args and https://www.tensorflow.org/api_docs/python/tf/function for more details.\n",
      "WARNING:tensorflow:9 out of the last 9 calls to <function Model.make_predict_function.<locals>.predict_function at 0x1a6dece50> triggered tf.function retracing. Tracing is expensive and the excessive number of tracings is likely due to passing python objects instead of tensors. Also, tf.function has experimental_relax_shapes=True option that relaxes argument shapes that can avoid unnecessary retracing. Please refer to https://www.tensorflow.org/tutorials/customization/performance#python_or_tensor_args and https://www.tensorflow.org/api_docs/python/tf/function for more details.\n",
      "WARNING:tensorflow:10 out of the last 10 calls to <function Model.make_predict_function.<locals>.predict_function at 0x1a6dece50> triggered tf.function retracing. Tracing is expensive and the excessive number of tracings is likely due to passing python objects instead of tensors. Also, tf.function has experimental_relax_shapes=True option that relaxes argument shapes that can avoid unnecessary retracing. Please refer to https://www.tensorflow.org/tutorials/customization/performance#python_or_tensor_args and https://www.tensorflow.org/api_docs/python/tf/function for more details.\n",
      "WARNING:tensorflow:11 out of the last 11 calls to <function Model.make_predict_function.<locals>.predict_function at 0x1a6dece50> triggered tf.function retracing. Tracing is expensive and the excessive number of tracings is likely due to passing python objects instead of tensors. Also, tf.function has experimental_relax_shapes=True option that relaxes argument shapes that can avoid unnecessary retracing. Please refer to https://www.tensorflow.org/tutorials/customization/performance#python_or_tensor_args and https://www.tensorflow.org/api_docs/python/tf/function for more details.\n",
      "WARNING:tensorflow:11 out of the last 11 calls to <function Model.make_predict_function.<locals>.predict_function at 0x1a6dece50> triggered tf.function retracing. Tracing is expensive and the excessive number of tracings is likely due to passing python objects instead of tensors. Also, tf.function has experimental_relax_shapes=True option that relaxes argument shapes that can avoid unnecessary retracing. Please refer to https://www.tensorflow.org/tutorials/customization/performance#python_or_tensor_args and https://www.tensorflow.org/api_docs/python/tf/function for more details.\n",
      "WARNING:tensorflow:11 out of the last 11 calls to <function Model.make_predict_function.<locals>.predict_function at 0x1a6dece50> triggered tf.function retracing. Tracing is expensive and the excessive number of tracings is likely due to passing python objects instead of tensors. Also, tf.function has experimental_relax_shapes=True option that relaxes argument shapes that can avoid unnecessary retracing. Please refer to https://www.tensorflow.org/tutorials/customization/performance#python_or_tensor_args and https://www.tensorflow.org/api_docs/python/tf/function for more details.\n",
      "WARNING:tensorflow:11 out of the last 11 calls to <function Model.make_predict_function.<locals>.predict_function at 0x1a6dece50> triggered tf.function retracing. Tracing is expensive and the excessive number of tracings is likely due to passing python objects instead of tensors. Also, tf.function has experimental_relax_shapes=True option that relaxes argument shapes that can avoid unnecessary retracing. Please refer to https://www.tensorflow.org/tutorials/customization/performance#python_or_tensor_args and https://www.tensorflow.org/api_docs/python/tf/function for more details.\n",
      "WARNING:tensorflow:11 out of the last 11 calls to <function Model.make_predict_function.<locals>.predict_function at 0x1a6dece50> triggered tf.function retracing. Tracing is expensive and the excessive number of tracings is likely due to passing python objects instead of tensors. Also, tf.function has experimental_relax_shapes=True option that relaxes argument shapes that can avoid unnecessary retracing. Please refer to https://www.tensorflow.org/tutorials/customization/performance#python_or_tensor_args and https://www.tensorflow.org/api_docs/python/tf/function for more details.\n",
      "WARNING:tensorflow:11 out of the last 11 calls to <function Model.make_predict_function.<locals>.predict_function at 0x1a6dece50> triggered tf.function retracing. Tracing is expensive and the excessive number of tracings is likely due to passing python objects instead of tensors. Also, tf.function has experimental_relax_shapes=True option that relaxes argument shapes that can avoid unnecessary retracing. Please refer to https://www.tensorflow.org/tutorials/customization/performance#python_or_tensor_args and https://www.tensorflow.org/api_docs/python/tf/function for more details.\n"
     ]
    }
   ],
   "source": [
    "# ConvLSTM2D\n",
    "!python conv_lstm.py"
   ]
  },
  {
   "cell_type": "code",
   "execution_count": 8,
   "metadata": {},
   "outputs": [
    {
     "name": "stdout",
     "output_type": "stream",
     "text": [
      "Loading data...\n",
      "/Users/sasanoshouta/.pyenv/versions/3.8.0/lib/python3.8/site-packages/tensorflow/python/keras/datasets/imdb.py:155: VisibleDeprecationWarning: Creating an ndarray from ragged nested sequences (which is a list-or-tuple of lists-or-tuples-or ndarrays with different lengths or shapes) is deprecated. If you meant to do this, you must specify 'dtype=object' when creating the ndarray\n",
      "  x_train, y_train = np.array(xs[:idx]), np.array(labels[:idx])\n",
      "/Users/sasanoshouta/.pyenv/versions/3.8.0/lib/python3.8/site-packages/tensorflow/python/keras/datasets/imdb.py:156: VisibleDeprecationWarning: Creating an ndarray from ragged nested sequences (which is a list-or-tuple of lists-or-tuples-or ndarrays with different lengths or shapes) is deprecated. If you meant to do this, you must specify 'dtype=object' when creating the ndarray\n",
      "  x_test, y_test = np.array(xs[idx:]), np.array(labels[idx:])\n",
      "25000 train sequences\n",
      "25000 test sequences\n",
      "Pad sequences (samples x time)\n",
      "x_train shape: (25000, 80)\n",
      "x_test shape: (25000, 80)\n",
      "Build model...\n",
      "2021-04-12 12:43:31.078856: I tensorflow/core/platform/cpu_feature_guard.cc:143] Your CPU supports instructions that this TensorFlow binary was not compiled to use: AVX2 FMA\n",
      "2021-04-12 12:43:31.095125: I tensorflow/compiler/xla/service/service.cc:168] XLA service 0x7faf42407b80 initialized for platform Host (this does not guarantee that XLA will be used). Devices:\n",
      "2021-04-12 12:43:31.095149: I tensorflow/compiler/xla/service/service.cc:176]   StreamExecutor device (0): Host, Default Version\n",
      "Train...\n",
      "Epoch 1/15\n",
      "782/782 [==============================] - 70s 89ms/step - loss: 0.6847 - accuracy: 0.5514 - val_loss: 0.6195 - val_accuracy: 0.6694\n",
      "Epoch 2/15\n",
      "782/782 [==============================] - 70s 89ms/step - loss: 0.5594 - accuracy: 0.7068 - val_loss: 0.4936 - val_accuracy: 0.7805\n",
      "Epoch 3/15\n",
      "782/782 [==============================] - 71s 91ms/step - loss: 0.4614 - accuracy: 0.7858 - val_loss: 0.7489 - val_accuracy: 0.6950\n",
      "Epoch 4/15\n",
      "782/782 [==============================] - 75s 95ms/step - loss: 0.4211 - accuracy: 0.8139 - val_loss: 0.4707 - val_accuracy: 0.7998\n",
      "Epoch 5/15\n",
      "782/782 [==============================] - 67s 85ms/step - loss: 0.3835 - accuracy: 0.8364 - val_loss: 0.4767 - val_accuracy: 0.7810\n",
      "Epoch 6/15\n",
      "782/782 [==============================] - 69s 89ms/step - loss: 0.3508 - accuracy: 0.8472 - val_loss: 0.5801 - val_accuracy: 0.7717\n",
      "Epoch 7/15\n",
      "782/782 [==============================] - 67s 85ms/step - loss: 0.3018 - accuracy: 0.8775 - val_loss: 0.5628 - val_accuracy: 0.7444\n",
      "Epoch 8/15\n",
      "782/782 [==============================] - 67s 86ms/step - loss: 0.2527 - accuracy: 0.9026 - val_loss: 0.5190 - val_accuracy: 0.7919\n",
      "Epoch 9/15\n",
      "782/782 [==============================] - 67s 86ms/step - loss: 0.2200 - accuracy: 0.9159 - val_loss: 0.5785 - val_accuracy: 0.7920\n",
      "Epoch 10/15\n",
      "782/782 [==============================] - 67s 86ms/step - loss: 0.2103 - accuracy: 0.9206 - val_loss: 0.6121 - val_accuracy: 0.7860\n",
      "Epoch 11/15\n",
      "782/782 [==============================] - 69s 88ms/step - loss: 0.2526 - accuracy: 0.9012 - val_loss: 0.5936 - val_accuracy: 0.7474\n",
      "Epoch 12/15\n",
      "782/782 [==============================] - 64s 82ms/step - loss: 0.2718 - accuracy: 0.8968 - val_loss: 0.6111 - val_accuracy: 0.7654\n",
      "Epoch 13/15\n",
      "782/782 [==============================] - 69s 89ms/step - loss: 0.3021 - accuracy: 0.8812 - val_loss: 0.6573 - val_accuracy: 0.7678\n",
      "Epoch 14/15\n",
      "782/782 [==============================] - 67s 86ms/step - loss: 0.2510 - accuracy: 0.9031 - val_loss: 0.6492 - val_accuracy: 0.7570\n",
      "Epoch 15/15\n",
      "782/782 [==============================] - 67s 86ms/step - loss: 0.2202 - accuracy: 0.9192 - val_loss: 0.6045 - val_accuracy: 0.7558\n",
      "782/782 [==============================] - 8s 10ms/step - loss: 0.6045 - accuracy: 0.7558\n",
      "Test score: 0.6045274138450623\n",
      "Test accuracy: 0.7558000087738037\n"
     ]
    }
   ],
   "source": [
    "# simple rnn\n",
    "!python imdb_lstm.py"
   ]
  },
  {
   "cell_type": "code",
   "execution_count": 10,
   "metadata": {},
   "outputs": [
    {
     "name": "stdout",
     "output_type": "stream",
     "text": [
      "Loading data...\n",
      "/Users/sasanoshouta/.pyenv/versions/3.8.0/lib/python3.8/site-packages/tensorflow/python/keras/datasets/imdb.py:155: VisibleDeprecationWarning: Creating an ndarray from ragged nested sequences (which is a list-or-tuple of lists-or-tuples-or ndarrays with different lengths or shapes) is deprecated. If you meant to do this, you must specify 'dtype=object' when creating the ndarray\n",
      "  x_train, y_train = np.array(xs[:idx]), np.array(labels[:idx])\n",
      "/Users/sasanoshouta/.pyenv/versions/3.8.0/lib/python3.8/site-packages/tensorflow/python/keras/datasets/imdb.py:156: VisibleDeprecationWarning: Creating an ndarray from ragged nested sequences (which is a list-or-tuple of lists-or-tuples-or ndarrays with different lengths or shapes) is deprecated. If you meant to do this, you must specify 'dtype=object' when creating the ndarray\n",
      "  x_test, y_test = np.array(xs[idx:]), np.array(labels[idx:])\n",
      "25000 train sequences\n",
      "25000 test sequences\n",
      "Pad sequences (samples x time)\n",
      "x_train shape: (25000, 80)\n",
      "x_test shape: (25000, 80)\n",
      "Build model...\n",
      "2021-04-12 13:01:08.809467: I tensorflow/core/platform/cpu_feature_guard.cc:143] Your CPU supports instructions that this TensorFlow binary was not compiled to use: AVX2 FMA\n",
      "2021-04-12 13:01:08.833098: I tensorflow/compiler/xla/service/service.cc:168] XLA service 0x7ff820a87ec0 initialized for platform Host (this does not guarantee that XLA will be used). Devices:\n",
      "2021-04-12 13:01:08.833125: I tensorflow/compiler/xla/service/service.cc:176]   StreamExecutor device (0): Host, Default Version\n",
      "Train...\n",
      "Epoch 1/15\n",
      "782/782 [==============================] - 190s 243ms/step - loss: 0.4352 - accuracy: 0.7895 - val_loss: 0.3568 - val_accuracy: 0.8454\n",
      "Epoch 2/15\n",
      "782/782 [==============================] - 214s 273ms/step - loss: 0.2443 - accuracy: 0.9026 - val_loss: 0.4274 - val_accuracy: 0.8154\n",
      "Epoch 3/15\n",
      "782/782 [==============================] - 208s 266ms/step - loss: 0.1429 - accuracy: 0.9472 - val_loss: 0.4832 - val_accuracy: 0.8323\n",
      "Epoch 4/15\n",
      "782/782 [==============================] - 167s 213ms/step - loss: 0.0786 - accuracy: 0.9724 - val_loss: 0.5160 - val_accuracy: 0.8312\n",
      "Epoch 5/15\n",
      "782/782 [==============================] - 212s 271ms/step - loss: 0.0429 - accuracy: 0.9850 - val_loss: 0.8819 - val_accuracy: 0.8033\n",
      "Epoch 6/15\n",
      "782/782 [==============================] - 190s 242ms/step - loss: 0.0279 - accuracy: 0.9912 - val_loss: 0.8908 - val_accuracy: 0.8186\n",
      "Epoch 7/15\n",
      "782/782 [==============================] - 206s 264ms/step - loss: 0.0173 - accuracy: 0.9943 - val_loss: 0.8907 - val_accuracy: 0.8178\n",
      "Epoch 8/15\n",
      "782/782 [==============================] - 204s 261ms/step - loss: 0.0169 - accuracy: 0.9942 - val_loss: 1.0604 - val_accuracy: 0.8145\n",
      "Epoch 9/15\n",
      "782/782 [==============================] - 186s 237ms/step - loss: 0.0127 - accuracy: 0.9960 - val_loss: 1.1742 - val_accuracy: 0.8111\n",
      "Epoch 10/15\n",
      "782/782 [==============================] - 188s 241ms/step - loss: 0.0105 - accuracy: 0.9962 - val_loss: 1.1918 - val_accuracy: 0.8120\n",
      "Epoch 11/15\n",
      "782/782 [==============================] - 191s 244ms/step - loss: 0.0115 - accuracy: 0.9962 - val_loss: 1.1903 - val_accuracy: 0.8058\n",
      "Epoch 12/15\n",
      "782/782 [==============================] - 208s 266ms/step - loss: 0.0082 - accuracy: 0.9976 - val_loss: 1.2786 - val_accuracy: 0.8140\n",
      "Epoch 13/15\n",
      "782/782 [==============================] - 196s 251ms/step - loss: 0.0036 - accuracy: 0.9990 - val_loss: 1.3441 - val_accuracy: 0.8113\n",
      "Epoch 14/15\n",
      "782/782 [==============================] - 221s 282ms/step - loss: 0.0041 - accuracy: 0.9985 - val_loss: 1.3063 - val_accuracy: 0.8110\n",
      "Epoch 15/15\n",
      "782/782 [==============================] - 192s 246ms/step - loss: 0.0072 - accuracy: 0.9977 - val_loss: 1.2502 - val_accuracy: 0.8072\n",
      "782/782 [==============================] - 19s 24ms/step - loss: 1.2502 - accuracy: 0.8072\n",
      "Test score: 1.2501760721206665\n",
      "Test accuracy: 0.8072400093078613\n"
     ]
    }
   ],
   "source": [
    "# GRU\n",
    "!python imdb_lstm.py"
   ]
  },
  {
   "cell_type": "markdown",
   "metadata": {},
   "source": [
    "【問題3】他のクラスの説明<br>\n",
    "ドキュメントには他にも関連するクラスが記載されています。それらがどういうものなのかを説明してください。この中には実際に扱うことは少ないクラスも含まれています。"
   ]
  },
  {
   "cell_type": "markdown",
   "metadata": {},
   "source": [
    "・RNN<br>\n",
    "Recurrentレイヤーに対する基底クラス．<br>\n",
    "\n",
    "・SimpleRNNCell<br>\n",
    "SimpleRNNのCellクラス．<br>\n",
    "\n",
    "・GRUCell<br>\n",
    "GRUレイヤーのためのCellクラス．<br>\n",
    "\n",
    "・LSTMCell<br>\n",
    "LSTMレイヤーのためのcellクラス．<br>\n",
    "\n",
    "・StackedRNNCells<br>\n",
    "RNN cellのスタックの振る舞いを単一のcellのようにするためのラッパー．<br>\n",
    "効率的なstacked RNNを実装するために使われます．<br>\n",
    "\n",
    "・CuDNNGRU<br>\n",
    "CuDNNを利用した高速なGRU実装．<br>\n",
    "TensorFlowバックエンドでGPU上でのみ動作します．<br>\n",
    "\n",
    "・CuDNNLSTM<br>\n",
    "CuDNNを利用した高速なLSTM実装．<br>\n",
    "TensorFlowバックエンドでGPU上でのみ動作します．<br>"
   ]
  },
  {
   "cell_type": "code",
   "execution_count": null,
   "metadata": {},
   "outputs": [],
   "source": []
  }
 ],
 "metadata": {
  "kernelspec": {
   "display_name": "Python 3",
   "language": "python",
   "name": "python3"
  },
  "language_info": {
   "codemirror_mode": {
    "name": "ipython",
    "version": 3
   },
   "file_extension": ".py",
   "mimetype": "text/x-python",
   "name": "python",
   "nbconvert_exporter": "python",
   "pygments_lexer": "ipython3",
   "version": "3.8.0"
  }
 },
 "nbformat": 4,
 "nbformat_minor": 4
}
