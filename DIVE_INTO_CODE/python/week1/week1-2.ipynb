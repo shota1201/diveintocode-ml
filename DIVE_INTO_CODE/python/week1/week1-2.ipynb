{
 "cells": [
  {
   "cell_type": "code",
   "execution_count": 3,
   "metadata": {},
   "outputs": [
    {
     "name": "stdout",
     "output_type": "stream",
     "text": [
      "初めて富士山の高さを超える回数 26\n"
     ]
    }
   ],
   "source": [
    "THICKNESS = 0.00008\n",
    "fold_thickness = THICKNESS\n",
    "count = 0\n",
    "while fold_thickness < 3776:\n",
    "    fold_thickness = fold_thickness * 2\n",
    "    count += 1\n",
    "    \n",
    "print('初めて富士山の高さを超える回数', count)"
   ]
  },
  {
   "cell_type": "code",
   "execution_count": 7,
   "metadata": {},
   "outputs": [
    {
     "name": "stdout",
     "output_type": "stream",
     "text": [
      "地球から月までの距離に届く回数 43\n"
     ]
    }
   ],
   "source": [
    "def distance_check(distance):\n",
    "    THICKNESS = 0.00008\n",
    "    fold_thickness = THICKNESS\n",
    "    count = 0\n",
    "    while fold_thickness < distance:\n",
    "        fold_thickness = fold_thickness * 2\n",
    "        count += 1\n",
    "    return count\n",
    "\n",
    "count = distance_check(363304000)\n",
    "print('地球から月までの距離に届く回数', count)"
   ]
  },
  {
   "cell_type": "code",
   "execution_count": 17,
   "metadata": {},
   "outputs": [
    {
     "name": "stdout",
     "output_type": "stream",
     "text": [
      "富士山に届くために必要な長さ:188646348487.24017[m]\n",
      "月に届くために必要な長さ:3.240919444170781e+21[m]\n",
      "地球から一番近い恒星に届くために必要な長さ:1.4595803601100348e+37[m]\n"
     ]
    }
   ],
   "source": [
    "import math\n",
    "# distance_dic = {'富士山':3776, '月':363304000, 'プロキオス':4.243*9.418e+15}\n",
    "def thickness_check(distance, thickness=0.00008):\n",
    "    times = distance_check(distance)\n",
    "    L = ((math.pi * thickness) / 6) * (2**times + 4) * (2**times - 1)\n",
    "    return L\n",
    "Mtfuji_L = thickness_check(3776)\n",
    "print('富士山に届くために必要な長さ:{0}[m]'.format(Mtfuji_L))\n",
    "moon_L = thickness_check(363304000)\n",
    "print('月に届くために必要な長さ:{0}[m]'.format(moon_L))\n",
    "star_L = thickness_check(4.243*9.418e+15)\n",
    "print('地球から一番近い恒星に届くために必要な長さ:{0}[m]'.format(star_L))"
   ]
  },
  {
   "cell_type": "code",
   "execution_count": null,
   "metadata": {},
   "outputs": [],
   "source": []
  }
 ],
 "metadata": {
  "kernelspec": {
   "display_name": "Python 3",
   "language": "python",
   "name": "python3"
  },
  "language_info": {
   "codemirror_mode": {
    "name": "ipython",
    "version": 3
   },
   "file_extension": ".py",
   "mimetype": "text/x-python",
   "name": "python",
   "nbconvert_exporter": "python",
   "pygments_lexer": "ipython3",
   "version": "3.8.0"
  }
 },
 "nbformat": 4,
 "nbformat_minor": 4
}
