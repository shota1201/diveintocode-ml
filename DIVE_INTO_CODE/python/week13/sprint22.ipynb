{
 "cells": [
  {
   "cell_type": "markdown",
   "metadata": {},
   "source": [
    "# 深層学習スクラッチ リカレントニューラルネットワーク"
   ]
  },
  {
   "cell_type": "markdown",
   "metadata": {},
   "source": [
    "【問題1】SimpleRNNのフォワードプロパゲーション実装"
   ]
  },
  {
   "cell_type": "code",
   "execution_count": 16,
   "metadata": {},
   "outputs": [],
   "source": [
    "import numpy as np\n",
    "\n",
    "class acttanh:\n",
    "    def forward(self, A):\n",
    "        self.A = A\n",
    "        return np.tanh(A)\n",
    "    \n",
    "    def backward(self, dZ):\n",
    "        return dZ * (1 - (np.tanh(self.A))**2)\n",
    "    \n",
    "class actrelu:\n",
    "    def forward(self, A):\n",
    "        self.A = A\n",
    "        return np.clip(A, 0, None)\n",
    "    \n",
    "    def backward(self, dZ):\n",
    "        return dZ * np.clip(np.sign(self.A), 0, None)\n",
    "\n",
    "class ScratchSimpleRNNClassifier:\n",
    "    def __init__(self, n_nodes=10, func_act='tanh'):\n",
    "        self.n_nodes = n_nodes\n",
    "        self.W_h = np.array([[1, 3, 5, 7], [2, 4, 6, 8], [3, 5, 7, 8], [4, 6, 8, 10]])/100 # (\n",
    "        self.B = np.array([1, 1, 1, 1]) # (n_nodes,)\n",
    "        if func_act == 'tanh':\n",
    "            self.activation = acttanh()\n",
    "        elif func_act == 'relu':\n",
    "            self.activation = actrelu()\n",
    "        \n",
    "    \n",
    "    def forward(self, X):\n",
    "        self.input_data = X\n",
    "        self.batch_size = self.input_data.shape[0]\n",
    "        self.n_sequense = self.input_data.shape[1]\n",
    "        self.h = np.zeros((self.batch_size, self.n_nodes))\n",
    "#         self.get_mini_batch = GetMiniBatch(X, y, batch_size=self.batch_size)\n",
    "        self.W_x = np.array([[1, 3, 5, 7], [3, 5, 7, 8]])/100 # (n_features, n_nodes)\n",
    "        \n",
    "        for b in range(self.batch_size):\n",
    "            for sequense in range(self.n_sequense):\n",
    "                a_t = np.dot(self.input_data[b, sequense, :], self.W_x) + np.dot(self.h, self.W_h) + self.B\n",
    "                h_t = self.activation.forward(a_t)\n",
    "                \n",
    "                self.h = h_t.reshape(self.batch_size, -1)\n",
    "                \n",
    "        self.final_h = self.h\n",
    "                \n",
    "        return self.final_h"
   ]
  },
  {
   "cell_type": "markdown",
   "metadata": {},
   "source": [
    "問題2】小さな配列でのフォワードプロパゲーションの実験"
   ]
  },
  {
   "cell_type": "code",
   "execution_count": 14,
   "metadata": {},
   "outputs": [],
   "source": [
    "x = np.array([[[1, 2], [2, 3], [3, 4]]])/100 # (batch_size, n_sequences, n_features)"
   ]
  },
  {
   "cell_type": "code",
   "execution_count": 20,
   "metadata": {},
   "outputs": [
    {
     "data": {
      "text/plain": [
       "array([[0.79494228, 0.81839002, 0.83939649, 0.85584174]])"
      ]
     },
     "execution_count": 20,
     "metadata": {},
     "output_type": "execute_result"
    }
   ],
   "source": [
    "ssrnn = ScratchSimpleRNNClassifier(n_nodes=4)\n",
    "res = ssrnn.forward(x)\n",
    "res"
   ]
  },
  {
   "cell_type": "markdown",
   "metadata": {},
   "source": [
    "正解出力：np.array([[0.79494228, 0.81839002, 0.83939649, 0.85584174]]) # (batch_size, n_nodes)"
   ]
  },
  {
   "cell_type": "code",
   "execution_count": null,
   "metadata": {},
   "outputs": [],
   "source": []
  }
 ],
 "metadata": {
  "kernelspec": {
   "display_name": "Python 3",
   "language": "python",
   "name": "python3"
  },
  "language_info": {
   "codemirror_mode": {
    "name": "ipython",
    "version": 3
   },
   "file_extension": ".py",
   "mimetype": "text/x-python",
   "name": "python",
   "nbconvert_exporter": "python",
   "pygments_lexer": "ipython3",
   "version": "3.8.0"
  }
 },
 "nbformat": 4,
 "nbformat_minor": 4
}
