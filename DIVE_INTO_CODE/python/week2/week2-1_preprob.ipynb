{
 "cells": [
  {
   "cell_type": "markdown",
   "metadata": {},
   "source": [
    "# 小麦とチェス盤問題"
   ]
  },
  {
   "cell_type": "code",
   "execution_count": 40,
   "metadata": {},
   "outputs": [
    {
     "name": "stdout",
     "output_type": "stream",
     "text": [
      "4マスの板に小麦を並べる（リスト）：[1, 2, 4, 8]\n"
     ]
    }
   ],
   "source": [
    "n_squares = 4\n",
    "small_board_list = [1]\n",
    "for _ in range(n_squares - 1):\n",
    "    small_board_list.append(2*small_board_list[-1])\n",
    "print(\"4マスの板に小麦を並べる（リスト）：{}\".format(small_board_list))"
   ]
  },
  {
   "cell_type": "code",
   "execution_count": 41,
   "metadata": {},
   "outputs": [
    {
     "name": "stdout",
     "output_type": "stream",
     "text": [
      "4マスの板に小麦を並べる（ndarray）：[1 2 4 8]\n"
     ]
    }
   ],
   "source": [
    "import numpy as np\n",
    "small_board_ndarray = np.array(small_board_list)\n",
    "print(\"4マスの板に小麦を並べる（ndarray）：{}\".format(small_board_ndarray))"
   ]
  },
  {
   "cell_type": "markdown",
   "metadata": {},
   "source": [
    "【問題1】2×2マスのチェス盤の小麦の数"
   ]
  },
  {
   "cell_type": "code",
   "execution_count": 42,
   "metadata": {},
   "outputs": [
    {
     "name": "stdout",
     "output_type": "stream",
     "text": [
      "4マスの板に小麦を並べる（ndarray）：\n",
      "[[1 2]\n",
      " [4 8]]\n"
     ]
    }
   ],
   "source": [
    "small_board_ndarray = small_board_ndarray.reshape(2,2)\n",
    "print(\"4マスの板に小麦を並べる（ndarray）：\\n{}\".format(small_board_ndarray))"
   ]
  },
  {
   "cell_type": "markdown",
   "metadata": {},
   "source": [
    "【問題2】n×mマスへの拡張"
   ]
  },
  {
   "cell_type": "code",
   "execution_count": 43,
   "metadata": {},
   "outputs": [
    {
     "name": "stdout",
     "output_type": "stream",
     "text": [
      "8×8マスの板に小麦を並べる（ndarray）：\n",
      "[[1.00000000e+00 2.00000000e+00 4.00000000e+00 8.00000000e+00\n",
      "  1.60000000e+01 3.20000000e+01 6.40000000e+01 1.28000000e+02]\n",
      " [2.56000000e+02 5.12000000e+02 1.02400000e+03 2.04800000e+03\n",
      "  4.09600000e+03 8.19200000e+03 1.63840000e+04 3.27680000e+04]\n",
      " [6.55360000e+04 1.31072000e+05 2.62144000e+05 5.24288000e+05\n",
      "  1.04857600e+06 2.09715200e+06 4.19430400e+06 8.38860800e+06]\n",
      " [1.67772160e+07 3.35544320e+07 6.71088640e+07 1.34217728e+08\n",
      "  2.68435456e+08 5.36870912e+08 1.07374182e+09 2.14748365e+09]\n",
      " [4.29496730e+09 8.58993459e+09 1.71798692e+10 3.43597384e+10\n",
      "  6.87194767e+10 1.37438953e+11 2.74877907e+11 5.49755814e+11]\n",
      " [1.09951163e+12 2.19902326e+12 4.39804651e+12 8.79609302e+12\n",
      "  1.75921860e+13 3.51843721e+13 7.03687442e+13 1.40737488e+14]\n",
      " [2.81474977e+14 5.62949953e+14 1.12589991e+15 2.25179981e+15\n",
      "  4.50359963e+15 9.00719925e+15 1.80143985e+16 3.60287970e+16]\n",
      " [7.20575940e+16 1.44115188e+17 2.88230376e+17 5.76460752e+17\n",
      "  1.15292150e+18 2.30584301e+18 4.61168602e+18 9.22337204e+18]]\n"
     ]
    }
   ],
   "source": [
    "def wheat_check(row, col):\n",
    "    small_board_list = [1]\n",
    "    for _ in range(row * col - 1):\n",
    "        small_board_list.append(2*small_board_list[-1])\n",
    "    small_board_ndarray = np.array(small_board_list).reshape(row, col)\n",
    "    return small_board_ndarray\n",
    "\n",
    "wheat = wheat_check(8,8)\n",
    "print(\"8×8マスの板に小麦を並べる（ndarray）：\\n{}\".format(wheat))"
   ]
  },
  {
   "cell_type": "markdown",
   "metadata": {},
   "source": [
    "【問題3】小麦の数の合計"
   ]
  },
  {
   "cell_type": "code",
   "execution_count": 44,
   "metadata": {},
   "outputs": [
    {
     "name": "stdout",
     "output_type": "stream",
     "text": [
      "チェス盤上の小麦の合計: 1.8446744073709552e+19\n",
      "チェス盤面の列ごとの平均値:\n",
      " [9.04252160e+15 1.80850432e+16 3.61700864e+16 7.23401728e+16\n",
      " 1.44680346e+17 2.89360691e+17 5.78721383e+17 1.15744277e+18]\n"
     ]
    },
    {
     "data": {
      "image/png": "[encoded data removed]",
      "text/plain": [
       "<Figure size 432x288 with 1 Axes>"
      ]
     },
     "metadata": {
      "needs_background": "light"
     },
     "output_type": "display_data"
    }
   ],
   "source": [
    "import matplotlib.pyplot as plt\n",
    "%matplotlib inline\n",
    "\n",
    "wheat_sum = wheat.sum()\n",
    "print('チェス盤上の小麦の合計:', wheat_sum)\n",
    "wheat_row_mean = wheat.mean(axis=0)\n",
    "print('チェス盤面の列ごとの平均値:\\n', wheat_row_mean)\n",
    "\n",
    "plt.xlabel(\"column\")\n",
    "plt.ylabel(\"number\")\n",
    "plt.title(\"number in each column\")\n",
    "plt.bar(np.arange(1,9), wheat_row_mean, linewidth=4)\n",
    "plt.show()"
   ]
  },
  {
   "cell_type": "markdown",
   "metadata": {},
   "source": [
    "【問題4】小麦の数のヒートマップ"
   ]
  },
  {
   "cell_type": "code",
   "execution_count": 45,
   "metadata": {},
   "outputs": [
    {
     "data": {
      "image/png": "[encoded data removed]",
      "text/plain": [
       "<Figure size 432x288 with 1 Axes>"
      ]
     },
     "metadata": {
      "needs_background": "light"
     },
     "output_type": "display_data"
    }
   ],
   "source": [
    "plt.xlabel(\"column\")\n",
    "plt.ylabel(\"row\")\n",
    "plt.title(\"heatmap\")\n",
    "plt.pcolor(wheat)\n",
    "plt.show()"
   ]
  },
  {
   "cell_type": "markdown",
   "metadata": {},
   "source": [
    "【問題5】後半は前半の何倍か"
   ]
  },
  {
   "cell_type": "code",
   "execution_count": 49,
   "metadata": {},
   "outputs": [
    {
     "name": "stdout",
     "output_type": "stream",
     "text": [
      "後半は前半の4294967296.0倍\n"
     ]
    }
   ],
   "source": [
    "first_half = wheat[0:4, :]\n",
    "last_half = wheat[4:8, :]\n",
    "first_sum = first_half.sum()\n",
    "last_sum = last_half.sum()\n",
    "\n",
    "print('後半は前半の{}倍'.format(last_sum / first_sum))"
   ]
  },
  {
   "cell_type": "markdown",
   "metadata": {},
   "source": [
    "【問題6】他の計算方法によるn×mマスへの拡張"
   ]
  },
  {
   "cell_type": "code",
   "execution_count": 51,
   "metadata": {},
   "outputs": [
    {
     "name": "stdout",
     "output_type": "stream",
     "text": [
      "8×8マスの板に小麦を並べる（ndarray）：\n",
      "[1.00000000e+00 2.00000000e+00 4.00000000e+00 8.00000000e+00\n",
      " 1.60000000e+01 3.20000000e+01 6.40000000e+01 1.28000000e+02\n",
      " 2.56000000e+02 5.12000000e+02 1.02400000e+03 2.04800000e+03\n",
      " 4.09600000e+03 8.19200000e+03 1.63840000e+04 3.27680000e+04\n",
      " 6.55360000e+04 1.31072000e+05 2.62144000e+05 5.24288000e+05\n",
      " 1.04857600e+06 2.09715200e+06 4.19430400e+06 8.38860800e+06\n",
      " 1.67772160e+07 3.35544320e+07 6.71088640e+07 1.34217728e+08\n",
      " 2.68435456e+08 5.36870912e+08 1.07374182e+09 2.14748365e+09\n",
      " 4.29496730e+09 8.58993459e+09 1.71798692e+10 3.43597384e+10\n",
      " 6.87194767e+10 1.37438953e+11 2.74877907e+11 5.49755814e+11\n",
      " 1.09951163e+12 2.19902326e+12 4.39804651e+12 8.79609302e+12\n",
      " 1.75921860e+13 3.51843721e+13 7.03687442e+13 1.40737488e+14\n",
      " 2.81474977e+14 5.62949953e+14 1.12589991e+15 2.25179981e+15\n",
      " 4.50359963e+15 9.00719925e+15 1.80143985e+16 3.60287970e+16\n",
      " 7.20575940e+16 1.44115188e+17 2.88230376e+17 5.76460752e+17\n",
      " 1.15292150e+18 2.30584301e+18 4.61168602e+18 9.22337204e+18]\n"
     ]
    }
   ],
   "source": [
    "# append\n",
    "def wheat_check(row, col):\n",
    "    small_board_ndarray = np.array([1]).astype(np.uint64)\n",
    "    for _ in range(row * col - 1):\n",
    "        small_board_ndarray = np.append(small_board_ndarray, 2*small_board_ndarray[-1])\n",
    "    return small_board_ndarray\n",
    "\n",
    "wheat = wheat_check(8,8)\n",
    "print(\"8×8マスの板に小麦を並べる（ndarray）：\\n{}\".format(wheat))"
   ]
  },
  {
   "cell_type": "code",
   "execution_count": 56,
   "metadata": {},
   "outputs": [
    {
     "name": "stdout",
     "output_type": "stream",
     "text": [
      "8×8マスの板に小麦を並べる（ndarray）：\n",
      "[                  1                   2                   4\n",
      "                   8                  16                  32\n",
      "                  64                 128                 256\n",
      "                 512                1024                2048\n",
      "                4096                8192               16384\n",
      "               32768               65536              131072\n",
      "              262144              524288             1048576\n",
      "             2097152             4194304             8388608\n",
      "            16777216            33554432            67108864\n",
      "           134217728           268435456           536870912\n",
      "          1073741824          2147483648          4294967296\n",
      "          8589934592         17179869184         34359738368\n",
      "         68719476736        137438953472        274877906944\n",
      "        549755813888       1099511627776       2199023255552\n",
      "       4398046511104       8796093022208      17592186044416\n",
      "      35184372088832      70368744177664     140737488355328\n",
      "     281474976710656     562949953421312    1125899906842624\n",
      "    2251799813685248    4503599627370496    9007199254740992\n",
      "   18014398509481984   36028797018963968   72057594037927936\n",
      "  144115188075855872  288230376151711744  576460752303423488\n",
      " 1152921504606846976 2305843009213693952 4611686018427387904\n",
      " 9223372036854775808]\n"
     ]
    }
   ],
   "source": [
    "# ブロードキャスト\n",
    "def wheat_check(row, col):\n",
    "    indices_of_squares = np.arange(row * col).astype(np.uint64)\n",
    "    small_board_ndarray = 2**indices_of_squares\n",
    "    return small_board_ndarray\n",
    "\n",
    "wheat = wheat_check(8,8)\n",
    "print(\"8×8マスの板に小麦を並べる（ndarray）：\\n{}\".format(wheat))"
   ]
  },
  {
   "cell_type": "markdown",
   "metadata": {},
   "source": [
    "【問題7】計算時間の比較"
   ]
  },
  {
   "cell_type": "code",
   "execution_count": 64,
   "metadata": {},
   "outputs": [
    {
     "name": "stdout",
     "output_type": "stream",
     "text": [
      "22.7 µs ± 1.69 µs per loop (mean ± std. dev. of 7 runs, 10000 loops each)\n"
     ]
    }
   ],
   "source": [
    "%%timeit\n",
    "# 問題2\n",
    "def wheat_check(row, col):\n",
    "    small_board_list = [1]\n",
    "    for _ in range(row * col - 1):\n",
    "        small_board_list.append(2*small_board_list[-1])\n",
    "    small_board_ndarray = np.array(small_board_list).reshape(row, col)\n",
    "    return small_board_ndarray\n",
    "\n",
    "wheat = wheat_check(8,8)\n",
    "# print(\"8×8マスの板に小麦を並べる（ndarray）：\\n{}\".format(wheat))"
   ]
  },
  {
   "cell_type": "code",
   "execution_count": 66,
   "metadata": {},
   "outputs": [
    {
     "name": "stdout",
     "output_type": "stream",
     "text": [
      "640 µs ± 32.3 µs per loop (mean ± std. dev. of 7 runs, 1000 loops each)\n"
     ]
    }
   ],
   "source": [
    "%%timeit\n",
    "# append\n",
    "def wheat_check(row, col):\n",
    "    small_board_ndarray = np.array([1]).astype(np.uint64)\n",
    "    for _ in range(row * col - 1):\n",
    "        small_board_ndarray = np.append(small_board_ndarray, 2*small_board_ndarray[-1])\n",
    "    return small_board_ndarray\n",
    "\n",
    "wheat = wheat_check(8,8)\n",
    "# print(\"8×8マスの板に小麦を並べる（ndarray）：\\n{}\".format(wheat))"
   ]
  },
  {
   "cell_type": "code",
   "execution_count": 67,
   "metadata": {},
   "outputs": [
    {
     "name": "stdout",
     "output_type": "stream",
     "text": [
      "4.49 µs ± 212 ns per loop (mean ± std. dev. of 7 runs, 100000 loops each)\n"
     ]
    }
   ],
   "source": [
    "%%timeit\n",
    "# ブロードキャスト\n",
    "def wheat_check(row, col):\n",
    "    indices_of_squares = np.arange(row * col).astype(np.uint64)\n",
    "    small_board_ndarray = 2**indices_of_squares\n",
    "    return small_board_ndarray\n",
    "\n",
    "wheat = wheat_check(8,8)\n",
    "# print(\"8×8マスの板に小麦を並べる（ndarray）：\\n{}\".format(wheat))"
   ]
  },
  {
   "cell_type": "markdown",
   "metadata": {},
   "source": [
    "時間計測の結論として、ブロードキャストが一番早く処理を行うことができる。\n",
    "理由として、for文のような段階的な処理ではなく、ブロードキャストによって一括で処理を\n",
    "行うことができている点。また、appendでも同様、1stepごとに対象へ値を追加するのではなく、\n",
    "一括で処理を行うことができているからと考える。"
   ]
  },
  {
   "cell_type": "code",
   "execution_count": null,
   "metadata": {},
   "outputs": [],
   "source": []
  }
 ],
 "metadata": {
  "kernelspec": {
   "display_name": "Python 3",
   "language": "python",
   "name": "python3"
  },
  "language_info": {
   "codemirror_mode": {
    "name": "ipython",
    "version": 3
   },
   "file_extension": ".py",
   "mimetype": "text/x-python",
   "name": "python",
   "nbconvert_exporter": "python",
   "pygments_lexer": "ipython3",
   "version": "3.8.0"
  }
 },
 "nbformat": 4,
 "nbformat_minor": 4
}
