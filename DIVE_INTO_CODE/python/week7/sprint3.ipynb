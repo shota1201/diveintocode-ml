{
 "cells": [
  {
   "cell_type": "markdown",
   "metadata": {},
   "source": [
    "# Sprint アンサンブル学習"
   ]
  },
  {
   "cell_type": "code",
   "execution_count": 14,
   "metadata": {},
   "outputs": [],
   "source": [
    "import sys, os\n",
    "import pandas as pd\n",
    "import numpy as np\n",
    "import seaborn as sns\n",
    "import matplotlib.pyplot as plt\n",
    "%matplotlib inline \n",
    "\n",
    "from sklearn.model_selection import train_test_split\n",
    "from sklearn.linear_model import LinearRegression\n",
    "from sklearn.svm import SVR\n",
    "from sklearn.tree import DecisionTreeRegressor\n",
    "from sklearn import metrics\n",
    "\n",
    "sys.path\n",
    "DIR_PATH = '/Users/sasanoshouta/Desktop/DIVE_INTO_CODE/python/week3/house-prices-advanced-regression-techniques/'"
   ]
  },
  {
   "cell_type": "code",
   "execution_count": 2,
   "metadata": {},
   "outputs": [
    {
     "data": {
      "text/html": [
       "<div>\n",
       "<style scoped>\n",
       "    .dataframe tbody tr th:only-of-type {\n",
       "        vertical-align: middle;\n",
       "    }\n",
       "\n",
       "    .dataframe tbody tr th {\n",
       "        vertical-align: top;\n",
       "    }\n",
       "\n",
       "    .dataframe thead th {\n",
       "        text-align: right;\n",
       "    }\n",
       "</style>\n",
       "<table border=\"1\" class=\"dataframe\">\n",
       "  <thead>\n",
       "    <tr style=\"text-align: right;\">\n",
       "      <th></th>\n",
       "      <th>Id</th>\n",
       "      <th>MSSubClass</th>\n",
       "      <th>MSZoning</th>\n",
       "      <th>LotFrontage</th>\n",
       "      <th>LotArea</th>\n",
       "      <th>Street</th>\n",
       "      <th>Alley</th>\n",
       "      <th>LotShape</th>\n",
       "      <th>LandContour</th>\n",
       "      <th>Utilities</th>\n",
       "      <th>...</th>\n",
       "      <th>PoolArea</th>\n",
       "      <th>PoolQC</th>\n",
       "      <th>Fence</th>\n",
       "      <th>MiscFeature</th>\n",
       "      <th>MiscVal</th>\n",
       "      <th>MoSold</th>\n",
       "      <th>YrSold</th>\n",
       "      <th>SaleType</th>\n",
       "      <th>SaleCondition</th>\n",
       "      <th>SalePrice</th>\n",
       "    </tr>\n",
       "  </thead>\n",
       "  <tbody>\n",
       "    <tr>\n",
       "      <th>0</th>\n",
       "      <td>1</td>\n",
       "      <td>60</td>\n",
       "      <td>RL</td>\n",
       "      <td>65.0</td>\n",
       "      <td>8450</td>\n",
       "      <td>Pave</td>\n",
       "      <td>NaN</td>\n",
       "      <td>Reg</td>\n",
       "      <td>Lvl</td>\n",
       "      <td>AllPub</td>\n",
       "      <td>...</td>\n",
       "      <td>0</td>\n",
       "      <td>NaN</td>\n",
       "      <td>NaN</td>\n",
       "      <td>NaN</td>\n",
       "      <td>0</td>\n",
       "      <td>2</td>\n",
       "      <td>2008</td>\n",
       "      <td>WD</td>\n",
       "      <td>Normal</td>\n",
       "      <td>208500</td>\n",
       "    </tr>\n",
       "    <tr>\n",
       "      <th>1</th>\n",
       "      <td>2</td>\n",
       "      <td>20</td>\n",
       "      <td>RL</td>\n",
       "      <td>80.0</td>\n",
       "      <td>9600</td>\n",
       "      <td>Pave</td>\n",
       "      <td>NaN</td>\n",
       "      <td>Reg</td>\n",
       "      <td>Lvl</td>\n",
       "      <td>AllPub</td>\n",
       "      <td>...</td>\n",
       "      <td>0</td>\n",
       "      <td>NaN</td>\n",
       "      <td>NaN</td>\n",
       "      <td>NaN</td>\n",
       "      <td>0</td>\n",
       "      <td>5</td>\n",
       "      <td>2007</td>\n",
       "      <td>WD</td>\n",
       "      <td>Normal</td>\n",
       "      <td>181500</td>\n",
       "    </tr>\n",
       "    <tr>\n",
       "      <th>2</th>\n",
       "      <td>3</td>\n",
       "      <td>60</td>\n",
       "      <td>RL</td>\n",
       "      <td>68.0</td>\n",
       "      <td>11250</td>\n",
       "      <td>Pave</td>\n",
       "      <td>NaN</td>\n",
       "      <td>IR1</td>\n",
       "      <td>Lvl</td>\n",
       "      <td>AllPub</td>\n",
       "      <td>...</td>\n",
       "      <td>0</td>\n",
       "      <td>NaN</td>\n",
       "      <td>NaN</td>\n",
       "      <td>NaN</td>\n",
       "      <td>0</td>\n",
       "      <td>9</td>\n",
       "      <td>2008</td>\n",
       "      <td>WD</td>\n",
       "      <td>Normal</td>\n",
       "      <td>223500</td>\n",
       "    </tr>\n",
       "    <tr>\n",
       "      <th>3</th>\n",
       "      <td>4</td>\n",
       "      <td>70</td>\n",
       "      <td>RL</td>\n",
       "      <td>60.0</td>\n",
       "      <td>9550</td>\n",
       "      <td>Pave</td>\n",
       "      <td>NaN</td>\n",
       "      <td>IR1</td>\n",
       "      <td>Lvl</td>\n",
       "      <td>AllPub</td>\n",
       "      <td>...</td>\n",
       "      <td>0</td>\n",
       "      <td>NaN</td>\n",
       "      <td>NaN</td>\n",
       "      <td>NaN</td>\n",
       "      <td>0</td>\n",
       "      <td>2</td>\n",
       "      <td>2006</td>\n",
       "      <td>WD</td>\n",
       "      <td>Abnorml</td>\n",
       "      <td>140000</td>\n",
       "    </tr>\n",
       "    <tr>\n",
       "      <th>4</th>\n",
       "      <td>5</td>\n",
       "      <td>60</td>\n",
       "      <td>RL</td>\n",
       "      <td>84.0</td>\n",
       "      <td>14260</td>\n",
       "      <td>Pave</td>\n",
       "      <td>NaN</td>\n",
       "      <td>IR1</td>\n",
       "      <td>Lvl</td>\n",
       "      <td>AllPub</td>\n",
       "      <td>...</td>\n",
       "      <td>0</td>\n",
       "      <td>NaN</td>\n",
       "      <td>NaN</td>\n",
       "      <td>NaN</td>\n",
       "      <td>0</td>\n",
       "      <td>12</td>\n",
       "      <td>2008</td>\n",
       "      <td>WD</td>\n",
       "      <td>Normal</td>\n",
       "      <td>250000</td>\n",
       "    </tr>\n",
       "    <tr>\n",
       "      <th>...</th>\n",
       "      <td>...</td>\n",
       "      <td>...</td>\n",
       "      <td>...</td>\n",
       "      <td>...</td>\n",
       "      <td>...</td>\n",
       "      <td>...</td>\n",
       "      <td>...</td>\n",
       "      <td>...</td>\n",
       "      <td>...</td>\n",
       "      <td>...</td>\n",
       "      <td>...</td>\n",
       "      <td>...</td>\n",
       "      <td>...</td>\n",
       "      <td>...</td>\n",
       "      <td>...</td>\n",
       "      <td>...</td>\n",
       "      <td>...</td>\n",
       "      <td>...</td>\n",
       "      <td>...</td>\n",
       "      <td>...</td>\n",
       "      <td>...</td>\n",
       "    </tr>\n",
       "    <tr>\n",
       "      <th>1455</th>\n",
       "      <td>1456</td>\n",
       "      <td>60</td>\n",
       "      <td>RL</td>\n",
       "      <td>62.0</td>\n",
       "      <td>7917</td>\n",
       "      <td>Pave</td>\n",
       "      <td>NaN</td>\n",
       "      <td>Reg</td>\n",
       "      <td>Lvl</td>\n",
       "      <td>AllPub</td>\n",
       "      <td>...</td>\n",
       "      <td>0</td>\n",
       "      <td>NaN</td>\n",
       "      <td>NaN</td>\n",
       "      <td>NaN</td>\n",
       "      <td>0</td>\n",
       "      <td>8</td>\n",
       "      <td>2007</td>\n",
       "      <td>WD</td>\n",
       "      <td>Normal</td>\n",
       "      <td>175000</td>\n",
       "    </tr>\n",
       "    <tr>\n",
       "      <th>1456</th>\n",
       "      <td>1457</td>\n",
       "      <td>20</td>\n",
       "      <td>RL</td>\n",
       "      <td>85.0</td>\n",
       "      <td>13175</td>\n",
       "      <td>Pave</td>\n",
       "      <td>NaN</td>\n",
       "      <td>Reg</td>\n",
       "      <td>Lvl</td>\n",
       "      <td>AllPub</td>\n",
       "      <td>...</td>\n",
       "      <td>0</td>\n",
       "      <td>NaN</td>\n",
       "      <td>MnPrv</td>\n",
       "      <td>NaN</td>\n",
       "      <td>0</td>\n",
       "      <td>2</td>\n",
       "      <td>2010</td>\n",
       "      <td>WD</td>\n",
       "      <td>Normal</td>\n",
       "      <td>210000</td>\n",
       "    </tr>\n",
       "    <tr>\n",
       "      <th>1457</th>\n",
       "      <td>1458</td>\n",
       "      <td>70</td>\n",
       "      <td>RL</td>\n",
       "      <td>66.0</td>\n",
       "      <td>9042</td>\n",
       "      <td>Pave</td>\n",
       "      <td>NaN</td>\n",
       "      <td>Reg</td>\n",
       "      <td>Lvl</td>\n",
       "      <td>AllPub</td>\n",
       "      <td>...</td>\n",
       "      <td>0</td>\n",
       "      <td>NaN</td>\n",
       "      <td>GdPrv</td>\n",
       "      <td>Shed</td>\n",
       "      <td>2500</td>\n",
       "      <td>5</td>\n",
       "      <td>2010</td>\n",
       "      <td>WD</td>\n",
       "      <td>Normal</td>\n",
       "      <td>266500</td>\n",
       "    </tr>\n",
       "    <tr>\n",
       "      <th>1458</th>\n",
       "      <td>1459</td>\n",
       "      <td>20</td>\n",
       "      <td>RL</td>\n",
       "      <td>68.0</td>\n",
       "      <td>9717</td>\n",
       "      <td>Pave</td>\n",
       "      <td>NaN</td>\n",
       "      <td>Reg</td>\n",
       "      <td>Lvl</td>\n",
       "      <td>AllPub</td>\n",
       "      <td>...</td>\n",
       "      <td>0</td>\n",
       "      <td>NaN</td>\n",
       "      <td>NaN</td>\n",
       "      <td>NaN</td>\n",
       "      <td>0</td>\n",
       "      <td>4</td>\n",
       "      <td>2010</td>\n",
       "      <td>WD</td>\n",
       "      <td>Normal</td>\n",
       "      <td>142125</td>\n",
       "    </tr>\n",
       "    <tr>\n",
       "      <th>1459</th>\n",
       "      <td>1460</td>\n",
       "      <td>20</td>\n",
       "      <td>RL</td>\n",
       "      <td>75.0</td>\n",
       "      <td>9937</td>\n",
       "      <td>Pave</td>\n",
       "      <td>NaN</td>\n",
       "      <td>Reg</td>\n",
       "      <td>Lvl</td>\n",
       "      <td>AllPub</td>\n",
       "      <td>...</td>\n",
       "      <td>0</td>\n",
       "      <td>NaN</td>\n",
       "      <td>NaN</td>\n",
       "      <td>NaN</td>\n",
       "      <td>0</td>\n",
       "      <td>6</td>\n",
       "      <td>2008</td>\n",
       "      <td>WD</td>\n",
       "      <td>Normal</td>\n",
       "      <td>147500</td>\n",
       "    </tr>\n",
       "  </tbody>\n",
       "</table>\n",
       "<p>1460 rows × 81 columns</p>\n",
       "</div>"
      ],
      "text/plain": [
       "        Id  MSSubClass MSZoning  LotFrontage  LotArea Street Alley LotShape  \\\n",
       "0        1          60       RL         65.0     8450   Pave   NaN      Reg   \n",
       "1        2          20       RL         80.0     9600   Pave   NaN      Reg   \n",
       "2        3          60       RL         68.0    11250   Pave   NaN      IR1   \n",
       "3        4          70       RL         60.0     9550   Pave   NaN      IR1   \n",
       "4        5          60       RL         84.0    14260   Pave   NaN      IR1   \n",
       "...    ...         ...      ...          ...      ...    ...   ...      ...   \n",
       "1455  1456          60       RL         62.0     7917   Pave   NaN      Reg   \n",
       "1456  1457          20       RL         85.0    13175   Pave   NaN      Reg   \n",
       "1457  1458          70       RL         66.0     9042   Pave   NaN      Reg   \n",
       "1458  1459          20       RL         68.0     9717   Pave   NaN      Reg   \n",
       "1459  1460          20       RL         75.0     9937   Pave   NaN      Reg   \n",
       "\n",
       "     LandContour Utilities  ... PoolArea PoolQC  Fence MiscFeature MiscVal  \\\n",
       "0            Lvl    AllPub  ...        0    NaN    NaN         NaN       0   \n",
       "1            Lvl    AllPub  ...        0    NaN    NaN         NaN       0   \n",
       "2            Lvl    AllPub  ...        0    NaN    NaN         NaN       0   \n",
       "3            Lvl    AllPub  ...        0    NaN    NaN         NaN       0   \n",
       "4            Lvl    AllPub  ...        0    NaN    NaN         NaN       0   \n",
       "...          ...       ...  ...      ...    ...    ...         ...     ...   \n",
       "1455         Lvl    AllPub  ...        0    NaN    NaN         NaN       0   \n",
       "1456         Lvl    AllPub  ...        0    NaN  MnPrv         NaN       0   \n",
       "1457         Lvl    AllPub  ...        0    NaN  GdPrv        Shed    2500   \n",
       "1458         Lvl    AllPub  ...        0    NaN    NaN         NaN       0   \n",
       "1459         Lvl    AllPub  ...        0    NaN    NaN         NaN       0   \n",
       "\n",
       "     MoSold YrSold  SaleType  SaleCondition  SalePrice  \n",
       "0         2   2008        WD         Normal     208500  \n",
       "1         5   2007        WD         Normal     181500  \n",
       "2         9   2008        WD         Normal     223500  \n",
       "3         2   2006        WD        Abnorml     140000  \n",
       "4        12   2008        WD         Normal     250000  \n",
       "...     ...    ...       ...            ...        ...  \n",
       "1455      8   2007        WD         Normal     175000  \n",
       "1456      2   2010        WD         Normal     210000  \n",
       "1457      5   2010        WD         Normal     266500  \n",
       "1458      4   2010        WD         Normal     142125  \n",
       "1459      6   2008        WD         Normal     147500  \n",
       "\n",
       "[1460 rows x 81 columns]"
      ]
     },
     "execution_count": 2,
     "metadata": {},
     "output_type": "execute_result"
    }
   ],
   "source": [
    "train = pd.read_csv(DIR_PATH+'train.csv')\n",
    "train"
   ]
  },
  {
   "cell_type": "markdown",
   "metadata": {},
   "source": [
    "【問題1】ブレンディングのスクラッチ実装"
   ]
  },
  {
   "cell_type": "code",
   "execution_count": 3,
   "metadata": {},
   "outputs": [],
   "source": [
    "X = train[['GrLivArea', 'YearBuilt']]\n",
    "# X['GrLivArea'] = X['GrLivArea'].apply(np.log)\n",
    "# y = train[['SalePrice']].apply(np.log)\n",
    "y = train[['SalePrice']]\n",
    "X = np.array(X)\n",
    "y = np.array(y)\n",
    "X_train, X_test, y_train, y_test = train_test_split(X, y, test_size=0.2)"
   ]
  },
  {
   "cell_type": "code",
   "execution_count": 4,
   "metadata": {},
   "outputs": [
    {
     "name": "stdout",
     "output_type": "stream",
     "text": [
      "線形回帰のMSE: 2027391144.4101274\n"
     ]
    },
    {
     "name": "stderr",
     "output_type": "stream",
     "text": [
      "/Users/sasanoshouta/.pyenv/versions/3.8.0/lib/python3.8/site-packages/sklearn/utils/validation.py:63: DataConversionWarning: A column-vector y was passed when a 1d array was expected. Please change the shape of y to (n_samples, ), for example using ravel().\n",
      "  return f(*args, **kwargs)\n"
     ]
    },
    {
     "name": "stdout",
     "output_type": "stream",
     "text": [
      "SVMのMSE: 6914406196.8799\n",
      "決定木のMSE: 1853185408.1832192\n"
     ]
    }
   ],
   "source": [
    "# 各手法毎のMSEを出力\n",
    "LR = LinearRegression()\n",
    "LR.fit(X_train, y_train)\n",
    "LR_pred = LR.predict(X_test)\n",
    "print('線形回帰のMSE: {}'.format(metrics.mean_squared_error(y_test, LR_pred)))\n",
    "\n",
    "SVM = SVR()\n",
    "SVM.fit(X_train, y_train)\n",
    "SVM_pred = SVM.predict(X_test)\n",
    "print('SVMのMSE: {}'.format(metrics.mean_squared_error(y_test, SVM_pred)))\n",
    "\n",
    "DT = DecisionTreeRegressor()\n",
    "DT.fit(X_train, y_train)\n",
    "DT_pred = DT.predict(X_test)\n",
    "print('決定木のMSE: {}'.format(metrics.mean_squared_error(y_test, DT_pred)))"
   ]
  },
  {
   "cell_type": "code",
   "execution_count": 5,
   "metadata": {},
   "outputs": [
    {
     "name": "stdout",
     "output_type": "stream",
     "text": [
      "bred_1のMSE: 2427947311.151758\n"
     ]
    }
   ],
   "source": [
    "# 3手法の値を足して平均取るブレンディング\n",
    "brend_1 = ((LR_pred.reshape(-1) + SVM_pred.reshape(-1) + DT_pred.reshape(-1)) / 3).reshape(-1, 1)\n",
    "print('bred_1のMSE: {}'.format(metrics.mean_squared_error(y_test, brend_1)))"
   ]
  },
  {
   "cell_type": "code",
   "execution_count": 6,
   "metadata": {},
   "outputs": [
    {
     "name": "stdout",
     "output_type": "stream",
     "text": [
      "bred_2のMSE: 4031670805.572683\n"
     ]
    }
   ],
   "source": [
    "# 予測結果を基に、重みをつけてブレンディング\n",
    "total = metrics.mean_squared_error(y_test, LR_pred) + metrics.mean_squared_error(y_test, SVM_pred) + metrics.mean_squared_error(y_test, DT_pred)\n",
    "LR_weight = metrics.mean_squared_error(y_test, LR_pred) / total\n",
    "SVM_weight = metrics.mean_squared_error(y_test, SVM_pred) / total\n",
    "DT_weight = metrics.mean_squared_error(y_test, DT_pred) / total\n",
    "\n",
    "brend_2 = ((LR_pred.reshape(-1) * LR_weight + SVM_pred.reshape(-1) * SVM_weight + DT_pred.reshape(-1) * DT_weight)).reshape(-1, 1)\n",
    "print('bred_2のMSE: {}'.format(metrics.mean_squared_error(y_test, brend_2)))"
   ]
  },
  {
   "cell_type": "code",
   "execution_count": 7,
   "metadata": {},
   "outputs": [
    {
     "name": "stdout",
     "output_type": "stream",
     "text": [
      "bred_3のMSE: 2427947311.151758\n"
     ]
    }
   ],
   "source": [
    "# 対数変換なしで平均とってブレンディング\n",
    "brend_3 = ((LR_pred.reshape(-1) + SVM_pred.reshape(-1) + DT_pred.reshape(-1)) / 3).reshape(-1, 1)\n",
    "print('bred_3のMSE: {}'.format(metrics.mean_squared_error(y_test, brend_1)))"
   ]
  },
  {
   "cell_type": "code",
   "execution_count": 8,
   "metadata": {},
   "outputs": [
    {
     "name": "stdout",
     "output_type": "stream",
     "text": [
      "bred_2のMSE: 4031670805.572683\n"
     ]
    }
   ],
   "source": [
    "# 対数変換なし予測結果を基に、重みをつけてブレンディング\n",
    "total = metrics.mean_squared_error(y_test, LR_pred) + metrics.mean_squared_error(y_test, SVM_pred) + metrics.mean_squared_error(y_test, DT_pred)\n",
    "LR_weight = metrics.mean_squared_error(y_test, LR_pred) / total\n",
    "SVM_weight = metrics.mean_squared_error(y_test, SVM_pred) / total\n",
    "DT_weight = metrics.mean_squared_error(y_test, DT_pred) / total\n",
    "\n",
    "brend_3 = ((LR_pred.reshape(-1) * LR_weight + SVM_pred.reshape(-1) * SVM_weight + DT_pred.reshape(-1) * DT_weight)).reshape(-1, 1)\n",
    "print('bred_2のMSE: {}'.format(metrics.mean_squared_error(y_test, brend_3)))"
   ]
  },
  {
   "cell_type": "markdown",
   "metadata": {},
   "source": [
    "【問題2】バギングのスクラッチ実装"
   ]
  },
  {
   "cell_type": "code",
   "execution_count": 9,
   "metadata": {},
   "outputs": [
    {
     "name": "stderr",
     "output_type": "stream",
     "text": [
      "<ipython-input-9-207fc2c62d68>:2: SettingWithCopyWarning: \n",
      "A value is trying to be set on a copy of a slice from a DataFrame.\n",
      "Try using .loc[row_indexer,col_indexer] = value instead\n",
      "\n",
      "See the caveats in the documentation: https://pandas.pydata.org/pandas-docs/stable/user_guide/indexing.html#returning-a-view-versus-a-copy\n",
      "  X['GrLivArea'] = X['GrLivArea'].apply(np.log)\n"
     ]
    }
   ],
   "source": [
    "X = train[['GrLivArea', 'YearBuilt']]\n",
    "X['GrLivArea'] = X['GrLivArea'].apply(np.log)\n",
    "y = train[['SalePrice']].apply(np.log)\n",
    "# y = train[['SalePrice']]\n",
    "X = np.array(X)\n",
    "y = np.array(y)\n",
    "X_train, X_test, y_train, y_test = train_test_split(X, y, test_size=0.2, shuffle=True)"
   ]
  },
  {
   "cell_type": "code",
   "execution_count": 10,
   "metadata": {},
   "outputs": [
    {
     "name": "stdout",
     "output_type": "stream",
     "text": [
      "線形回帰のMSE: 0.04693799412522659\n",
      "SVMのMSE: 0.10479170107129714\n",
      "決定木のMSE: 0.06676809685310629\n"
     ]
    },
    {
     "name": "stderr",
     "output_type": "stream",
     "text": [
      "/Users/sasanoshouta/.pyenv/versions/3.8.0/lib/python3.8/site-packages/sklearn/utils/validation.py:63: DataConversionWarning: A column-vector y was passed when a 1d array was expected. Please change the shape of y to (n_samples, ), for example using ravel().\n",
      "  return f(*args, **kwargs)\n"
     ]
    }
   ],
   "source": [
    "# 各データモデル実行前に再度データをシャッフル\n",
    "# 各手法毎のMSEを出力\n",
    "X_train, X_test, y_train, y_test = train_test_split(X, y, test_size=0.2, shuffle=True)\n",
    "LR = LinearRegression()\n",
    "LR.fit(X_train, y_train)\n",
    "LR_pred = LR.predict(X_test)\n",
    "print('線形回帰のMSE: {}'.format(metrics.mean_squared_error(y_test, LR_pred)))\n",
    "\n",
    "X_train, X_test, y_train, y_test = train_test_split(X, y, test_size=0.2, shuffle=True)\n",
    "SVM = SVR()\n",
    "SVM.fit(X_train, y_train)\n",
    "SVM_pred = SVM.predict(X_test)\n",
    "print('SVMのMSE: {}'.format(metrics.mean_squared_error(y_test, SVM_pred)))\n",
    "\n",
    "X_train, X_test, y_train, y_test = train_test_split(X, y, test_size=0.2, shuffle=True)\n",
    "DT = DecisionTreeRegressor()\n",
    "DT.fit(X_train, y_train)\n",
    "DT_pred = DT.predict(X_test)\n",
    "print('決定木のMSE: {}'.format(metrics.mean_squared_error(y_test, DT_pred)))"
   ]
  },
  {
   "cell_type": "code",
   "execution_count": 11,
   "metadata": {},
   "outputs": [
    {
     "name": "stdout",
     "output_type": "stream",
     "text": [
      "baggingのMSE: 0.10423225572325823\n"
     ]
    }
   ],
   "source": [
    "# バギング結果\n",
    "bagging = ((LR_pred.reshape(-1) + SVM_pred.reshape(-1) + DT_pred.reshape(-1)) / 3).reshape(-1, 1)\n",
    "print('baggingのMSE: {}'.format(metrics.mean_squared_error(y_test, bagging)))"
   ]
  },
  {
   "cell_type": "markdown",
   "metadata": {},
   "source": [
    "【問題3】スタッキングのスクラッチ実装"
   ]
  },
  {
   "cell_type": "code",
   "execution_count": 54,
   "metadata": {},
   "outputs": [
    {
     "name": "stderr",
     "output_type": "stream",
     "text": [
      "<ipython-input-54-f32e60f39eb1>:7: SettingWithCopyWarning: \n",
      "A value is trying to be set on a copy of a slice from a DataFrame.\n",
      "Try using .loc[row_indexer,col_indexer] = value instead\n",
      "\n",
      "See the caveats in the documentation: https://pandas.pydata.org/pandas-docs/stable/user_guide/indexing.html#returning-a-view-versus-a-copy\n",
      "  X['GrLivArea'] = X['GrLivArea'].apply(np.log)\n"
     ]
    }
   ],
   "source": [
    "X = train[['GrLivArea', 'YearBuilt']]\n",
    "X['GrLivArea'] = X['GrLivArea'].apply(np.log)\n",
    "y = train[['SalePrice']].apply(np.log)\n",
    "# y = train[['SalePrice']]\n",
    "X = np.array(X)\n",
    "y = np.array(y)\n",
    "X_train, X_test, y_train, y_test = train_test_split(X, y, test_size=0.2)"
   ]
  },
  {
   "cell_type": "code",
   "execution_count": 88,
   "metadata": {},
   "outputs": [
    {
     "name": "stdout",
     "output_type": "stream",
     "text": [
      "train index:  876\n",
      "val index:  292\n",
      "train index:  876\n",
      "val index:  292\n",
      "train index:  876\n",
      "val index:  292\n",
      "train index:  876\n",
      "val index:  292\n"
     ]
    }
   ],
   "source": [
    "# ステージ0\n",
    "# X_train, y_trainをK個ぶん分割\n",
    "from sklearn.model_selection import KFold\n",
    "\n",
    "# 学習データを分割する個数、モデルを用意する個数\n",
    "K = 4\n",
    "# 用意するモデルの数\n",
    "M = 2\n",
    "\n",
    "# K個ぶんのモデルインスタンスをリストに用意\n",
    "LR_list = []\n",
    "DT_list = []\n",
    "for i in range(K):\n",
    "    LR_list.append(LinearRegression())\n",
    "    DT_list.append(DecisionTreeRegressor())\n",
    "\n",
    "# 結果を保存しておく配列\n",
    "LR_result = np.array([])\n",
    "DT_result = np.array([])\n",
    "all_y_val = np.array([])\n",
    "LR_test = np.array([])\n",
    "DT_test = np.array([])\n",
    "kf = KFold(n_splits=K, random_state=None, shuffle=False)\n",
    "for i, (train_index, val_index) in enumerate(kf.split(X_train)):\n",
    "    print('train index: ', len(train_index)); print('val index: ', len(val_index))\n",
    "    x_t, x_v = X[train_index], X[val_index]\n",
    "    y_t, y_v = y[train_index], y[val_index]\n",
    "    \n",
    "    LR = LR_list[i]\n",
    "    DT = DT_list[i]\n",
    "    LR.fit(x_t, y_t)\n",
    "    DT.fit(x_t, y_t)\n",
    "    LR_result = np.append(LR_result, LR.predict(x_v))\n",
    "    DT_result = np.append(DT_result, DT.predict(x_v))\n",
    "    all_y_val = np.append(all_y_val, y_v)\n",
    "    LR_test = np.append(LR_test, LR.predict(X_test))\n",
    "    DT_test = np.append(DT_test, DT.predict(X_test))\n",
    "    \n",
    "# total_test = np.concatenate([LR_test.reshape(-1, 1), DT_test.reshape(-1, 1)], axis=1)\n",
    "total_result = np.concatenate([LR_result.reshape(-1, 1), DT_result.reshape(-1, 1)], axis=1)\n",
    "LR_test = (LR_test.reshape(-1, K)).mean(axis=1)\n",
    "DT_test = (DT_test.reshape(-1, K)).mean(axis=1)\n",
    "total_test = np.concatenate([LR_test.reshape(-1, 1), DT_test.reshape(-1, 1)], axis=1)"
   ]
  },
  {
   "cell_type": "code",
   "execution_count": 85,
   "metadata": {},
   "outputs": [
    {
     "data": {
      "text/plain": [
       "(292, 2)"
      ]
     },
     "execution_count": 85,
     "metadata": {},
     "output_type": "execute_result"
    }
   ],
   "source": [
    "total_test.shape"
   ]
  },
  {
   "cell_type": "code",
   "execution_count": 77,
   "metadata": {},
   "outputs": [
    {
     "data": {
      "text/plain": [
       "array([12.24769432, 12.10901093, 12.31716669, ..., 12.35952308,\n",
       "       12.41044104, 12.06104687])"
      ]
     },
     "execution_count": 77,
     "metadata": {},
     "output_type": "execute_result"
    }
   ],
   "source": [
    "all_y_val"
   ]
  },
  {
   "cell_type": "code",
   "execution_count": 69,
   "metadata": {},
   "outputs": [
    {
     "name": "stdout",
     "output_type": "stream",
     "text": [
      "(1168,) (1168, 2)\n"
     ]
    }
   ],
   "source": [
    "# total_resultを学習データ、all_y_valをその答えとして学習させる\n",
    "print(all_y_val.shape, total_result.shape)"
   ]
  },
  {
   "cell_type": "code",
   "execution_count": 89,
   "metadata": {},
   "outputs": [
    {
     "data": {
      "text/plain": [
       "array([12.12733195, 11.93154143, 11.99616973, 12.27888316, 11.8841216 ,\n",
       "       11.8752387 , 11.82150172, 11.88273596, 12.15692368, 11.95527185,\n",
       "       12.04696775, 11.75630614, 11.91440385, 11.84317888, 11.99873488,\n",
       "       12.16992563, 12.05353302, 11.9649004 , 12.15734187, 12.23849897,\n",
       "       12.09467796, 12.25454549, 12.11456103, 11.68183307, 11.94771286,\n",
       "       12.07285351, 12.15805472, 12.05344374, 12.0834154 , 11.97163089,\n",
       "       12.36188374, 11.97498207, 12.29801924, 12.24527409, 12.17497983,\n",
       "       12.32201284, 12.0487138 , 12.26449449, 11.94528665, 11.91956586,\n",
       "       12.04465056, 11.7548754 , 12.03205423, 12.01847474, 12.15784578,\n",
       "       11.66256504, 11.72351122, 11.87513881, 12.04790796, 11.8124795 ,\n",
       "       11.77141836, 12.1490246 , 11.9559267 , 12.06582385, 12.07597421,\n",
       "       11.7072876 , 12.29013806, 12.16790276, 12.09152041, 12.02359939,\n",
       "       12.08306032, 12.01618062, 12.12575517, 11.79837774, 11.89404465,\n",
       "       11.94904479, 12.14244106, 11.73926322, 11.87072741, 12.43489833,\n",
       "       11.75705605, 11.98152568, 12.26799959, 12.13057099, 11.93770718,\n",
       "       11.96257594, 12.2500167 , 11.87993545, 11.85044824, 11.83329834,\n",
       "       11.87085392, 12.11303972, 11.93043932, 12.04885659, 11.75358838,\n",
       "       11.92276057, 11.86739064, 11.99916916, 12.16358424, 12.04981586,\n",
       "       11.93465662, 12.13266245, 12.22715586, 12.09254206, 12.2400688 ,\n",
       "       12.05380371, 11.69455174, 11.99987565, 12.0637667 , 12.1456588 ,\n",
       "       12.04898725, 12.08587832, 12.03174536, 12.38341904, 11.99039301,\n",
       "       12.28628713, 12.24564776, 12.18804199, 12.29365114, 12.04534298,\n",
       "       12.20048883, 11.92037251, 11.92585823, 12.0479056 , 11.68793392,\n",
       "       12.02428264, 12.03875948, 12.15110914, 11.68208958, 11.66549684,\n",
       "       11.87050254, 12.00121314, 11.78853008, 11.78681559, 12.12613263,\n",
       "       11.94066175, 12.03656488, 12.06305243, 11.77617976, 12.26564493,\n",
       "       12.17455616, 12.08515414, 12.00901392, 12.0566808 , 12.00250833,\n",
       "       12.13041282, 11.79771599, 11.84384944, 11.91785393, 12.13497074,\n",
       "       11.75632042, 11.87252922, 12.41965789, 11.74144635, 11.94859721,\n",
       "       12.24593711, 12.1365399 , 11.93179504, 11.98822831, 12.21755206,\n",
       "       11.90925301, 11.85206735, 11.83432898, 11.87720374, 12.1049414 ,\n",
       "       11.90067969, 12.05261637, 11.76146634, 11.92838909, 11.86483235,\n",
       "       11.9781662 , 12.14797087, 12.04566052, 11.95344144, 12.14064046,\n",
       "       12.24122084, 12.09538232, 12.22187324, 12.05560949, 11.6783216 ,\n",
       "       11.97953856, 12.06024086, 12.14696536, 12.04288369, 12.05558798,\n",
       "       11.96984579, 12.29263761, 11.9599928 , 12.33632642, 12.24011765,\n",
       "       12.1914507 , 12.29129322, 12.02520734, 12.22558888, 11.95162472,\n",
       "       11.93592673, 12.05733579, 11.69458418, 12.03914753, 12.00771382,\n",
       "       12.17112092, 11.66724569, 11.72237529, 11.87156714, 11.96974404,\n",
       "       11.82655597, 11.77986289, 12.17243729, 11.93827698, 12.07508165,\n",
       "       12.05320648, 11.73555703, 12.24455257, 12.1606064 , 12.08019706,\n",
       "       12.02181933, 12.06856621, 12.00024821, 12.15348629, 11.79756902,\n",
       "       11.90429614, 11.92097527, 12.12447284, 11.74399325, 11.85147984,\n",
       "       12.38782483, 11.73735616, 11.95655721, 12.25018895, 12.16626353,\n",
       "       11.93413572, 11.98152167, 12.28161117, 11.8853683 , 11.85954613,\n",
       "       11.84735138, 11.89045149, 12.1508562 , 11.9408208 , 12.06518884,\n",
       "       11.76274866, 11.89662336, 11.87547661, 12.00721206, 12.16630331,\n",
       "       12.07442863, 11.96278193, 12.16271687, 12.23472098, 12.12987045,\n",
       "       12.24869226, 12.06446968, 11.67834515, 11.95439659, 12.07216392,\n",
       "       12.16497556, 12.05146648, 12.07202336, 11.97906493, 12.36282356,\n",
       "       12.01554359, 12.32518224, 12.24349886, 12.20985777, 12.31235924,\n",
       "       12.03271116, 12.26977231, 11.96367499, 11.94788943, 12.04626664,\n",
       "       11.71613436, 12.00921629, 11.99804637, 12.20165436, 11.66561261,\n",
       "       11.72537554, 11.87766418, 12.01320717, 11.82623539, 11.7874212 ,\n",
       "       12.21123114, 11.94983006, 12.06214824, 12.07231072, 11.74044436,\n",
       "       12.28045231, 12.17544022, 12.1011848 , 12.06549583, 12.07795695,\n",
       "       11.98552606, 12.14140674, 11.79084825, 11.89832929, 11.92169767,\n",
       "       12.15148329, 11.80947487, 11.90422176, 12.4532583 , 11.73149609,\n",
       "       11.95840547, 12.25302317])"
      ]
     },
     "execution_count": 89,
     "metadata": {},
     "output_type": "execute_result"
    }
   ],
   "source": [
    "meta_model = LinearRegression()\n",
    "meta_model.fit(total_result, all_y_val)\n",
    "final_pred = meta_model.predict(total_test)\n",
    "final_pred"
   ]
  },
  {
   "cell_type": "code",
   "execution_count": 90,
   "metadata": {},
   "outputs": [
    {
     "name": "stdout",
     "output_type": "stream",
     "text": [
      "線形回帰・決定木をスタッキングしたのMSE: \n",
      "0.2081177002593481\n"
     ]
    }
   ],
   "source": [
    "print('線形回帰・決定木をスタッキングしたのMSE: \\n{}'.format(metrics.mean_squared_error(y_test, final_pred)))"
   ]
  },
  {
   "cell_type": "code",
   "execution_count": null,
   "metadata": {},
   "outputs": [],
   "source": []
  }
 ],
 "metadata": {
  "kernelspec": {
   "display_name": "Python 3",
   "language": "python",
   "name": "python3"
  },
  "language_info": {
   "codemirror_mode": {
    "name": "ipython",
    "version": 3
   },
   "file_extension": ".py",
   "mimetype": "text/x-python",
   "name": "python",
   "nbconvert_exporter": "python",
   "pygments_lexer": "ipython3",
   "version": "3.8.0"
  }
 },
 "nbformat": 4,
 "nbformat_minor": 4
}
