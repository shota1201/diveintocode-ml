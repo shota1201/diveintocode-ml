{
 "cells": [
  {
   "cell_type": "markdown",
   "metadata": {},
   "source": [
    "# Sprint 機械学習スクラッチ 決定木"
   ]
  },
  {
   "cell_type": "markdown",
   "metadata": {},
   "source": [
    "参考サイト：<br>\n",
    "https://qiita.com/roki18d/items/1c5633beb80a5c2d58e7<br>\n",
    "https://hktech.hatenablog.com/entry/2018/10/05/004235<br>"
   ]
  },
  {
   "cell_type": "code",
   "execution_count": 1,
   "metadata": {},
   "outputs": [],
   "source": [
    "import numpy as np\n",
    "class ScratchDecesionTreeClassifierDepth1():\n",
    "    \"\"\"\n",
    "    深さ1の決定木分類器のスクラッチ実装\n",
    "    Parameters\n",
    "    ----------\n",
    "    verbose : bool\n",
    "      学習過程を出力する場合はTrue\n",
    "    \"\"\"\n",
    "    def __init__(self, verbose=False):\n",
    "        # ハイパーパラメータを属性として記録\n",
    "        self.verbose = verbose\n",
    "        # 閾値以上の値のデータを保管\n",
    "        self.y_left = 0\n",
    "        # 閾値未満の値のデータを保管\n",
    "        self.y_right = 0\n",
    "        self.combined_data = None\n",
    "        # 閾値を記憶\n",
    "        self.threshold = 0\n",
    "        # 情報利得が最大になる閾値を保存\n",
    "        self.best_threshold = 0\n",
    "        # 情報利得が最大になる閾値の保存\n",
    "        self.parents_node_gini = 0\n",
    "        \n",
    "    def fit(self, X, y):\n",
    "        \"\"\"\n",
    "        決定木分類器を学習する\n",
    "        Parameters\n",
    "        ----------\n",
    "        X : 次の形のndarray, shape (n_samples, n_features)\n",
    "            訓練データの特徴量\n",
    "        y : 次の形のndarray, shape (n_samples, )\n",
    "            訓練データの正解値\n",
    "        \"\"\"\n",
    "        if self.verbose:\n",
    "            #verboseをTrueにした際は学習過程を出力\n",
    "            print()\n",
    "        pass\n",
    "    def predict(self, X):\n",
    "        \"\"\"\n",
    "        決定木分類器を使いラベルを推定する\n",
    "        \"\"\"\n",
    "        pass\n",
    "        return"
   ]
  },
  {
   "cell_type": "markdown",
   "metadata": {},
   "source": [
    "【問題1】不純度を求める関数"
   ]
  },
  {
   "cell_type": "code",
   "execution_count": null,
   "metadata": {},
   "outputs": [],
   "source": [
    "def _gini_function(self, y):\n",
    "    self.classes = np.unique(y)\n",
    "    gini = 1.0\n",
    "    for c in self.classes:\n",
    "        gini -= (len(y[y==c] / len(y)))**2\n",
    "    self.parents_node_gini = gini"
   ]
  },
  {
   "cell_type": "markdown",
   "metadata": {},
   "source": [
    "【問題2】情報利得を求める関数"
   ]
  },
  {
   "cell_type": "code",
   "execution_count": null,
   "metadata": {},
   "outputs": [],
   "source": [
    "# parents_node_value: 最初にジニ不純度を求めた時の値\n",
    "def _information_gain(self, y_left, y_right, parents_node_value):\n",
    "    p_left = float(len(y_left) / (len(y_left) + len(y_right)))\n",
    "    p_right = float(len(y_right) / (len(y_left) + len(y_right)))\n",
    "    return parents_node_value - ((p_left * self._gini_function(y_left[:, 1])) + (p_right * self._gini_function(y_right[:, 1])))"
   ]
  },
  {
   "cell_type": "markdown",
   "metadata": {},
   "source": [
    "【問題3】学習"
   ]
  },
  {
   "cell_type": "code",
   "execution_count": null,
   "metadata": {},
   "outputs": [],
   "source": [
    "# こいつらをfitでfor文回す\n",
    "# データを左右に割り振る関数\n",
    "def _left_or_right(self):\n",
    "#     self.combined_data = np.concatenate([X, y], axis=1)\n",
    "    self.y_left = self.combined_data[self.combined_data[:, 0] >= self.threshold]\n",
    "    self.y_right = self.combined_data[self.combined_data[:, 0] < self.threshold]\n",
    "    \n",
    "# ある閾値における情報利得値を取得する関数\n",
    "def _all_gain(self):\n",
    "    self.all_gain = []\n",
    "    self.all_gain.append(self._information_gain(self.y_left, y_right, self.parents_node_gini))\n",
    "    "
   ]
  },
  {
   "cell_type": "markdown",
   "metadata": {},
   "source": [
    "【問題4】推定"
   ]
  },
  {
   "cell_type": "code",
   "execution_count": null,
   "metadata": {},
   "outputs": [],
   "source": [
    "def predict(self, X):\n",
    "    \"\"\"\n",
    "    決定木分類器を使いラベルを推定する\n",
    "    \"\"\"\n",
    "    pred = np.where(X[:, 0] >= self.best_threshold, self.classes[0], self.classes[1])\n",
    "    return pred"
   ]
  },
  {
   "cell_type": "markdown",
   "metadata": {},
   "source": [
    "【問題5】学習と推定"
   ]
  },
  {
   "cell_type": "code",
   "execution_count": 84,
   "metadata": {},
   "outputs": [],
   "source": [
    "import numpy as np\n",
    "class ScratchDecesionTreeClassifierDepth1():\n",
    "    \"\"\"\n",
    "    深さ1の決定木分類器のスクラッチ実装\n",
    "    Parameters\n",
    "    ----------\n",
    "    verbose : bool\n",
    "      学習過程を出力する場合はTrue\n",
    "    \"\"\"\n",
    "    def __init__(self, verbose=False):\n",
    "        # ハイパーパラメータを属性として記録\n",
    "        self.verbose = verbose\n",
    "        # 閾値以上の値のデータを保管\n",
    "        self.y_left = 0\n",
    "        # 閾値未満の値のデータを保管\n",
    "        self.y_right = 0\n",
    "        self.combined_data = None\n",
    "        # 閾値を記憶\n",
    "        self.threshold = 0\n",
    "        # 情報利得が最大になる閾値を保存\n",
    "        self.best_threshold = 0\n",
    "        # 情報利得が最大になる閾値の保存\n",
    "        self.parents_node_gini = 0\n",
    "        # 情報利得を保存するリスト\n",
    "        self.all_gain = []\n",
    "        \n",
    "    def fit(self, X, y):\n",
    "        \"\"\"\n",
    "        決定木分類器を学習する\n",
    "        Parameters\n",
    "        ----------\n",
    "        X : 次の形のndarray, shape (n_samples, n_features)\n",
    "            訓練データの特徴量\n",
    "        y : 次の形のndarray, shape (n_samples, )\n",
    "            訓練データの正解値\n",
    "        \"\"\"\n",
    "        y = y.reshape(-1, 1)\n",
    "        self.combined_data = np.concatenate([X, y], axis=1)\n",
    "        self.parents_node_gini = self._gini_function(y)\n",
    "        for i in range(len(self.combined_data)):\n",
    "            self.threshold = self.combined_data[i, 0]\n",
    "            self._left_or_right()\n",
    "            self._all_gain()\n",
    "            if self.verbose:\n",
    "                #verboseをTrueにした際は学習過程を出力\n",
    "                print('{0} / {1} times done | information gain value: {2}'.format(i+1, len(self.combined_data), self.all_gain[-1]))\n",
    "        \n",
    "        self.best_threshold = self._find_max()\n",
    "        \n",
    "            \n",
    "    def predict(self, X):\n",
    "        \"\"\"\n",
    "        決定木分類器を使いラベルを推定する\n",
    "        \"\"\"\n",
    "        pred = np.where(X[:, 0] >= self.best_threshold, self.classes[1], self.classes[0])\n",
    "        return pred\n",
    "    \n",
    "    def _gini_function(self, y):\n",
    "        self.classes = np.unique(y)\n",
    "        gini = 1.0\n",
    "        for c in self.classes:\n",
    "            gini -= (len(y[y==c]) / len(y))**2\n",
    "    \n",
    "        return gini\n",
    "    \n",
    "    # parents_node_value: 最初にジニ不純度を求めた時の値\n",
    "    def _information_gain(self, y_left, y_right, parents_node_value):\n",
    "        p_left = float(len(y_left) / (len(y_left) + len(y_right)))\n",
    "        p_right = float(len(y_right) / (len(y_left) + len(y_right)))\n",
    "        return parents_node_value - ((p_left * self._gini_function(y_left[:, 2]))\\\n",
    "                                     + (p_right * self._gini_function(y_right[:, 2])))\n",
    "    \n",
    "    # こいつらをfitでfor文回す\n",
    "    # データを左右に割り振る関数\n",
    "    def _left_or_right(self):\n",
    "    #     self.combined_data = np.concatenate([X, y], axis=1)\n",
    "        self.y_left = self.combined_data[self.combined_data[:, 0] >= self.threshold]\n",
    "        self.y_right = self.combined_data[self.combined_data[:, 0] < self.threshold]\n",
    "    \n",
    "    # ある閾値における情報利得値を取得する関数\n",
    "    def _all_gain(self):\n",
    "        self.all_gain.append(self._information_gain(self.y_left, self.y_right, self.parents_node_gini))\n",
    "    # 最大の情報利得のインデックスを見つけてきてその時のvalueを閾値にして返す関数\n",
    "    def _find_max(self):\n",
    "        self.all_gain = np.array(self.all_gain)\n",
    "        max_gains_index = np.argmax(self.all_gain)\n",
    "        best_threshold = self.combined_data[max_gains_index, 0]\n",
    "        return best_threshold"
   ]
  },
  {
   "cell_type": "code",
   "execution_count": 85,
   "metadata": {},
   "outputs": [],
   "source": [
    "from sklearn.datasets import load_iris\n",
    "from sklearn.model_selection import train_test_split\n",
    "from sklearn import metrics\n",
    "from sklearn.preprocessing import StandardScaler\n",
    "import numpy as np\n",
    "\n",
    "iris = load_iris()\n",
    "iris_data = iris.data[:100, :2]\n",
    "iris_target = iris.target[:100]\n",
    "X_train, X_test, y_train, y_test = train_test_split(iris_data, iris_target, test_size=0.2, random_state=0)\n",
    "SS = StandardScaler()\n",
    "norm_X_train = SS.fit_transform(X_train)\n",
    "norm_X_test = SS.transform(X_test)"
   ]
  },
  {
   "cell_type": "code",
   "execution_count": 91,
   "metadata": {},
   "outputs": [
    {
     "name": "stdout",
     "output_type": "stream",
     "text": [
      "1 / 80 times done | information gain value: 0.08666666666666667\n",
      "2 / 80 times done | information gain value: 0.15573770491803274\n",
      "3 / 80 times done | information gain value: 0.019480519480519376\n",
      "4 / 80 times done | information gain value: 0.125\n",
      "5 / 80 times done | information gain value: 0.047945205479452024\n",
      "6 / 80 times done | information gain value: 0.23142857142857148\n",
      "7 / 80 times done | information gain value: 0.019480519480519376\n",
      "8 / 80 times done | information gain value: 0.17883705206220424\n",
      "9 / 80 times done | information gain value: 0.18005952380952384\n",
      "10 / 80 times done | information gain value: 0.01948051948051943\n",
      "11 / 80 times done | information gain value: 0.08666666666666667\n",
      "12 / 80 times done | information gain value: 0.3005003126954347\n",
      "13 / 80 times done | information gain value: 0.3005003126954347\n",
      "14 / 80 times done | information gain value: 0.09701492537313422\n",
      "15 / 80 times done | information gain value: 0.05555555555555558\n",
      "16 / 80 times done | information gain value: 0.20572745227123101\n",
      "17 / 80 times done | information gain value: 0.17883705206220424\n",
      "18 / 80 times done | information gain value: 0.0797101449275362\n",
      "19 / 80 times done | information gain value: 0.125\n",
      "20 / 80 times done | information gain value: 0.05555555555555558\n",
      "21 / 80 times done | information gain value: 0.0714285714285714\n",
      "22 / 80 times done | information gain value: 0.17796610169491517\n",
      "23 / 80 times done | information gain value: 0.0\n",
      "24 / 80 times done | information gain value: 0.012820512820512775\n",
      "25 / 80 times done | information gain value: 0.08666666666666667\n",
      "26 / 80 times done | information gain value: 0.17883705206220424\n",
      "27 / 80 times done | information gain value: 0.12695924764890282\n",
      "28 / 80 times done | information gain value: 0.08666666666666667\n",
      "29 / 80 times done | information gain value: 0.0\n",
      "30 / 80 times done | information gain value: 0.24747474747474751\n",
      "31 / 80 times done | information gain value: 0.125\n",
      "32 / 80 times done | information gain value: 0.20572745227123101\n",
      "33 / 80 times done | information gain value: 0.12695924764890282\n",
      "34 / 80 times done | information gain value: 0.0714285714285714\n",
      "35 / 80 times done | information gain value: 0.20572745227123101\n",
      "36 / 80 times done | information gain value: 0.006329113924050667\n",
      "37 / 80 times done | information gain value: 0.047945205479452024\n",
      "38 / 80 times done | information gain value: 0.08666666666666667\n",
      "39 / 80 times done | information gain value: 0.12695924764890282\n",
      "40 / 80 times done | information gain value: 0.012820512820512775\n",
      "41 / 80 times done | information gain value: 0.24747474747474751\n",
      "42 / 80 times done | information gain value: 0.24747474747474751\n",
      "43 / 80 times done | information gain value: 0.2506393861892583\n",
      "44 / 80 times done | information gain value: 0.0714285714285714\n",
      "45 / 80 times done | information gain value: 0.17883705206220424\n",
      "46 / 80 times done | information gain value: 0.15573770491803274\n",
      "47 / 80 times done | information gain value: 0.20572745227123101\n",
      "48 / 80 times done | information gain value: 0.24747474747474751\n",
      "49 / 80 times done | information gain value: 0.18005952380952384\n",
      "50 / 80 times done | information gain value: 0.3005003126954347\n",
      "51 / 80 times done | information gain value: 0.12695924764890282\n",
      "52 / 80 times done | information gain value: 0.040540540540540515\n",
      "53 / 80 times done | information gain value: 0.08666666666666667\n",
      "54 / 80 times done | information gain value: 0.09701492537313422\n",
      "55 / 80 times done | information gain value: 0.12695924764890282\n",
      "56 / 80 times done | information gain value: 0.2506393861892583\n",
      "57 / 80 times done | information gain value: 0.24747474747474751\n",
      "58 / 80 times done | information gain value: 0.2506393861892583\n",
      "59 / 80 times done | information gain value: 0.0797101449275362\n",
      "60 / 80 times done | information gain value: 0.03333333333333338\n",
      "61 / 80 times done | information gain value: 0.08666666666666667\n",
      "62 / 80 times done | information gain value: 0.0714285714285714\n",
      "63 / 80 times done | information gain value: 0.3005003126954347\n",
      "64 / 80 times done | information gain value: 0.12695924764890282\n",
      "65 / 80 times done | information gain value: 0.12695924764890282\n",
      "66 / 80 times done | information gain value: 0.03333333333333338\n",
      "67 / 80 times done | information gain value: 0.04054054054054057\n",
      "68 / 80 times done | information gain value: 0.047945205479452024\n",
      "69 / 80 times done | information gain value: 0.2506393861892583\n",
      "70 / 80 times done | information gain value: 0.17796610169491517\n",
      "71 / 80 times done | information gain value: 0.0797101449275362\n",
      "72 / 80 times done | information gain value: 0.3005003126954347\n",
      "73 / 80 times done | information gain value: 0.12695924764890282\n",
      "74 / 80 times done | information gain value: 0.15573770491803274\n",
      "75 / 80 times done | information gain value: 0.0714285714285714\n",
      "76 / 80 times done | information gain value: 0.17883705206220424\n",
      "77 / 80 times done | information gain value: 0.18005952380952384\n",
      "78 / 80 times done | information gain value: 0.2506393861892583\n",
      "79 / 80 times done | information gain value: 0.019480519480519376\n",
      "80 / 80 times done | information gain value: 0.12695924764890282\n",
      "[0. 1. 0. 1. 1. 0. 0. 1. 1. 1. 1. 1. 1. 0. 0. 0. 0. 0. 1. 0.]\n"
     ]
    }
   ],
   "source": [
    "mydt = ScratchDecesionTreeClassifierDepth1(verbose=True)\n",
    "mydt.fit(X_train, y_train)\n",
    "pred = mydt.predict(X_test)\n",
    "print(pred)"
   ]
  },
  {
   "cell_type": "code",
   "execution_count": 92,
   "metadata": {},
   "outputs": [
    {
     "name": "stdout",
     "output_type": "stream",
     "text": [
      "正解率: 90.0%\n",
      "適合率: 90.0%\n",
      "再現率: 90.0%\n",
      "F値: 0.9\n"
     ]
    }
   ],
   "source": [
    "# 各種評価指標\n",
    "accuracy = metrics.accuracy_score(y_test, pred)\n",
    "print('正解率: {}%'.format(accuracy*100))\n",
    "\n",
    "precision = metrics.precision_score(y_test, pred)\n",
    "print('適合率: {}%'.format(precision*100))\n",
    "\n",
    "recall = metrics.recall_score(y_test, pred)\n",
    "print('再現率: {}%'.format(recall*100))\n",
    "\n",
    "f_value = metrics.f1_score(y_test, pred)\n",
    "print('F値: {}'.format(f_value))"
   ]
  },
  {
   "cell_type": "code",
   "execution_count": 93,
   "metadata": {},
   "outputs": [
    {
     "data": {
      "text/plain": [
       "5.5"
      ]
     },
     "execution_count": 93,
     "metadata": {},
     "output_type": "execute_result"
    }
   ],
   "source": [
    "mydt.best_threshold"
   ]
  },
  {
   "cell_type": "markdown",
   "metadata": {},
   "source": [
    "【問題6】決定領域の可視化"
   ]
  },
  {
   "cell_type": "code",
   "execution_count": 94,
   "metadata": {},
   "outputs": [],
   "source": [
    "from matplotlib.colors import ListedColormap\n",
    "import matplotlib.patches as mpatches\n",
    "import matplotlib.pyplot as plt\n",
    "\n",
    "def decision_region(X, y, model, step=0.01, title='decision region', xlabel='xlabel', ylabel='ylabel', target_names=['versicolor', 'virginica']):\n",
    "    \"\"\"\n",
    "    2値分類を2次元の特徴量で学習したモデルの決定領域を描く。\n",
    "    背景の色が学習したモデルによる推定値から描画される。\n",
    "    散布図の点は訓練データまたは検証データである。\n",
    "    Parameters\n",
    "    ----------------\n",
    "    X : ndarray, shape(n_samples, 2)\n",
    "        特徴量\n",
    "    y : ndarray, shape(n_samples,)\n",
    "        ラベル\n",
    "    model : object\n",
    "        学習したモデルのインスンタスを入れる\n",
    "    step : float, (default : 0.1)\n",
    "        推定値を計算する間隔を設定する\n",
    "    title : str\n",
    "        グラフのタイトルの文章を与える\n",
    "    xlabel, ylabel : str\n",
    "        軸ラベルの文章を与える\n",
    "    target_names= : list of str\n",
    "        凡例の一覧を与える\n",
    "    \"\"\"\n",
    "    # setting\n",
    "    scatter_color = ['red', 'blue']\n",
    "    contourf_color = ['pink', 'skyblue']\n",
    "    n_class = 2\n",
    "    # pred\n",
    "    mesh_f0, mesh_f1  = np.meshgrid(np.arange(np.min(X[:,0])-0.5, np.max(X[:,0])+0.5, step), np.arange(np.min(X[:,1])-0.5, np.max(X[:,1])+0.5, step))\n",
    "    mesh = np.c_[np.ravel(mesh_f0),np.ravel(mesh_f1)]\n",
    "    y_pred = model.predict(mesh).reshape(mesh_f0.shape)\n",
    "    # plot\n",
    "    plt.title(title)\n",
    "    plt.xlabel(xlabel)\n",
    "    plt.ylabel(ylabel)\n",
    "    plt.contourf(mesh_f0, mesh_f1, y_pred, n_class-1, cmap=ListedColormap(contourf_color))\n",
    "    plt.contour(mesh_f0, mesh_f1, y_pred, n_class-1, colors='y', linewidths=3, alpha=0.5)\n",
    "    for i, target in enumerate(set(y)):\n",
    "        plt.scatter(X[y==target][:, 0], X[y==target][:, 1], s=80, color=scatter_color[i], label=target_names[i], marker='o')\n",
    "    patches = [mpatches.Patch(color=scatter_color[i], label=target_names[i]) for i in range(n_class)]\n",
    "    plt.legend(handles=patches)\n",
    "    plt.legend()\n",
    "    plt.show()"
   ]
  },
  {
   "cell_type": "code",
   "execution_count": 95,
   "metadata": {},
   "outputs": [
    {
     "data": {
      "image/png": "[encoded data removed]",
      "text/plain": [
       "<Figure size 432x288 with 1 Axes>"
      ]
     },
     "metadata": {
      "needs_background": "light"
     },
     "output_type": "display_data"
    }
   ],
   "source": [
    "decision_region(X_train, y_train, mydt)"
   ]
  },
  {
   "cell_type": "markdown",
   "metadata": {},
   "source": [
    "【問題7】（アドバンス課題）深さ2の決定木分類器クラスの作成"
   ]
  },
  {
   "cell_type": "markdown",
   "metadata": {},
   "source": [
    "【問題8】（アドバンス課題）深さに制限のない決定木分類器クラスの作成"
   ]
  },
  {
   "cell_type": "code",
   "execution_count": null,
   "metadata": {},
   "outputs": [],
   "source": []
  }
 ],
 "metadata": {
  "kernelspec": {
   "display_name": "Python 3",
   "language": "python",
   "name": "python3"
  },
  "language_info": {
   "codemirror_mode": {
    "name": "ipython",
    "version": 3
   },
   "file_extension": ".py",
   "mimetype": "text/x-python",
   "name": "python",
   "nbconvert_exporter": "python",
   "pygments_lexer": "ipython3",
   "version": "3.8.0"
  }
 },
 "nbformat": 4,
 "nbformat_minor": 4
}
